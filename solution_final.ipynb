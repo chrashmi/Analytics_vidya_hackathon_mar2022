{
 "cells": [
  {
   "cell_type": "code",
   "execution_count": 1,
   "metadata": {},
   "outputs": [
    {
     "name": "stderr",
     "output_type": "stream",
     "text": [
      "In C:\\ProgramData\\Anaconda3\\lib\\site-packages\\matplotlib\\mpl-data\\stylelib\\_classic_test.mplstyle: \n",
      "The text.latex.preview rcparam was deprecated in Matplotlib 3.3 and will be removed two minor releases later.\n",
      "In C:\\ProgramData\\Anaconda3\\lib\\site-packages\\matplotlib\\mpl-data\\stylelib\\_classic_test.mplstyle: \n",
      "The mathtext.fallback_to_cm rcparam was deprecated in Matplotlib 3.3 and will be removed two minor releases later.\n",
      "In C:\\ProgramData\\Anaconda3\\lib\\site-packages\\matplotlib\\mpl-data\\stylelib\\_classic_test.mplstyle: Support for setting the 'mathtext.fallback_to_cm' rcParam is deprecated since 3.3 and will be removed two minor releases later; use 'mathtext.fallback : 'cm' instead.\n",
      "In C:\\ProgramData\\Anaconda3\\lib\\site-packages\\matplotlib\\mpl-data\\stylelib\\_classic_test.mplstyle: \n",
      "The validate_bool_maybe_none function was deprecated in Matplotlib 3.3 and will be removed two minor releases later.\n",
      "In C:\\ProgramData\\Anaconda3\\lib\\site-packages\\matplotlib\\mpl-data\\stylelib\\_classic_test.mplstyle: \n",
      "The savefig.jpeg_quality rcparam was deprecated in Matplotlib 3.3 and will be removed two minor releases later.\n",
      "In C:\\ProgramData\\Anaconda3\\lib\\site-packages\\matplotlib\\mpl-data\\stylelib\\_classic_test.mplstyle: \n",
      "The keymap.all_axes rcparam was deprecated in Matplotlib 3.3 and will be removed two minor releases later.\n",
      "In C:\\ProgramData\\Anaconda3\\lib\\site-packages\\matplotlib\\mpl-data\\stylelib\\_classic_test.mplstyle: \n",
      "The animation.avconv_path rcparam was deprecated in Matplotlib 3.3 and will be removed two minor releases later.\n",
      "In C:\\ProgramData\\Anaconda3\\lib\\site-packages\\matplotlib\\mpl-data\\stylelib\\_classic_test.mplstyle: \n",
      "The animation.avconv_args rcparam was deprecated in Matplotlib 3.3 and will be removed two minor releases later.\n"
     ]
    }
   ],
   "source": [
    "import pandas as pd\n",
    "import numpy as np\n",
    "import matplotlib.pyplot as plt\n",
    "import seaborn as sns\n",
    "%matplotlib inline"
   ]
  },
  {
   "cell_type": "code",
   "execution_count": 2,
   "metadata": {},
   "outputs": [],
   "source": [
    "data=pd.read_csv('train.csv')"
   ]
  },
  {
   "cell_type": "code",
   "execution_count": 3,
   "metadata": {},
   "outputs": [
    {
     "data": {
      "text/html": [
       "<div>\n",
       "<style scoped>\n",
       "    .dataframe tbody tr th:only-of-type {\n",
       "        vertical-align: middle;\n",
       "    }\n",
       "\n",
       "    .dataframe tbody tr th {\n",
       "        vertical-align: top;\n",
       "    }\n",
       "\n",
       "    .dataframe thead th {\n",
       "        text-align: right;\n",
       "    }\n",
       "</style>\n",
       "<table border=\"1\" class=\"dataframe\">\n",
       "  <thead>\n",
       "    <tr style=\"text-align: right;\">\n",
       "      <th></th>\n",
       "      <th>ID</th>\n",
       "      <th>Age</th>\n",
       "      <th>Gender</th>\n",
       "      <th>Income</th>\n",
       "      <th>Balance</th>\n",
       "      <th>Vintage</th>\n",
       "      <th>Transaction_Status</th>\n",
       "      <th>Product_Holdings</th>\n",
       "      <th>Credit_Card</th>\n",
       "      <th>Credit_Category</th>\n",
       "      <th>Is_Churn</th>\n",
       "    </tr>\n",
       "  </thead>\n",
       "  <tbody>\n",
       "    <tr>\n",
       "      <th>0</th>\n",
       "      <td>84e2fcc9</td>\n",
       "      <td>36</td>\n",
       "      <td>Female</td>\n",
       "      <td>5L - 10L</td>\n",
       "      <td>563266.44</td>\n",
       "      <td>4</td>\n",
       "      <td>0</td>\n",
       "      <td>1</td>\n",
       "      <td>0</td>\n",
       "      <td>Average</td>\n",
       "      <td>1</td>\n",
       "    </tr>\n",
       "    <tr>\n",
       "      <th>1</th>\n",
       "      <td>57fea15e</td>\n",
       "      <td>53</td>\n",
       "      <td>Female</td>\n",
       "      <td>Less than 5L</td>\n",
       "      <td>875572.11</td>\n",
       "      <td>2</td>\n",
       "      <td>1</td>\n",
       "      <td>1</td>\n",
       "      <td>1</td>\n",
       "      <td>Poor</td>\n",
       "      <td>0</td>\n",
       "    </tr>\n",
       "    <tr>\n",
       "      <th>2</th>\n",
       "      <td>8df34ef3</td>\n",
       "      <td>35</td>\n",
       "      <td>Female</td>\n",
       "      <td>More than 15L</td>\n",
       "      <td>701607.06</td>\n",
       "      <td>2</td>\n",
       "      <td>1</td>\n",
       "      <td>2</td>\n",
       "      <td>0</td>\n",
       "      <td>Poor</td>\n",
       "      <td>0</td>\n",
       "    </tr>\n",
       "    <tr>\n",
       "      <th>3</th>\n",
       "      <td>c5c0788b</td>\n",
       "      <td>43</td>\n",
       "      <td>Female</td>\n",
       "      <td>More than 15L</td>\n",
       "      <td>1393922.16</td>\n",
       "      <td>0</td>\n",
       "      <td>1</td>\n",
       "      <td>2</td>\n",
       "      <td>1</td>\n",
       "      <td>Poor</td>\n",
       "      <td>1</td>\n",
       "    </tr>\n",
       "    <tr>\n",
       "      <th>4</th>\n",
       "      <td>951d69c4</td>\n",
       "      <td>39</td>\n",
       "      <td>Female</td>\n",
       "      <td>More than 15L</td>\n",
       "      <td>893146.23</td>\n",
       "      <td>1</td>\n",
       "      <td>1</td>\n",
       "      <td>1</td>\n",
       "      <td>1</td>\n",
       "      <td>Good</td>\n",
       "      <td>1</td>\n",
       "    </tr>\n",
       "  </tbody>\n",
       "</table>\n",
       "</div>"
      ],
      "text/plain": [
       "         ID  Age  Gender         Income     Balance  Vintage  \\\n",
       "0  84e2fcc9   36  Female       5L - 10L   563266.44        4   \n",
       "1  57fea15e   53  Female   Less than 5L   875572.11        2   \n",
       "2  8df34ef3   35  Female  More than 15L   701607.06        2   \n",
       "3  c5c0788b   43  Female  More than 15L  1393922.16        0   \n",
       "4  951d69c4   39  Female  More than 15L   893146.23        1   \n",
       "\n",
       "   Transaction_Status Product_Holdings  Credit_Card Credit_Category  Is_Churn  \n",
       "0                   0                1            0         Average         1  \n",
       "1                   1                1            1            Poor         0  \n",
       "2                   1                2            0            Poor         0  \n",
       "3                   1                2            1            Poor         1  \n",
       "4                   1                1            1            Good         1  "
      ]
     },
     "execution_count": 3,
     "metadata": {},
     "output_type": "execute_result"
    }
   ],
   "source": [
    "data.head()"
   ]
  },
  {
   "cell_type": "markdown",
   "metadata": {},
   "source": [
    "# EDA"
   ]
  },
  {
   "cell_type": "code",
   "execution_count": 5,
   "metadata": {},
   "outputs": [
    {
     "data": {
      "text/plain": [
       "(6650, 11)"
      ]
     },
     "execution_count": 5,
     "metadata": {},
     "output_type": "execute_result"
    }
   ],
   "source": [
    "data.shape"
   ]
  },
  {
   "cell_type": "code",
   "execution_count": 33,
   "metadata": {},
   "outputs": [
    {
     "data": {
      "text/plain": [
       "6650"
      ]
     },
     "execution_count": 33,
     "metadata": {},
     "output_type": "execute_result"
    }
   ],
   "source": [
    "len(data['ID'].unique())"
   ]
  },
  {
   "cell_type": "code",
   "execution_count": 10,
   "metadata": {},
   "outputs": [
    {
     "data": {
      "text/plain": [
       "ID                     object\n",
       "Age                     int64\n",
       "Gender                 object\n",
       "Income                 object\n",
       "Balance               float64\n",
       "Vintage                 int64\n",
       "Transaction_Status      int64\n",
       "Product_Holdings       object\n",
       "Credit_Card             int64\n",
       "Credit_Category        object\n",
       "Is_Churn                int64\n",
       "dtype: object"
      ]
     },
     "execution_count": 10,
     "metadata": {},
     "output_type": "execute_result"
    }
   ],
   "source": [
    "data.dtypes"
   ]
  },
  {
   "cell_type": "code",
   "execution_count": 4,
   "metadata": {},
   "outputs": [
    {
     "data": {
      "text/plain": [
       "0    5113\n",
       "1    1537\n",
       "Name: Is_Churn, dtype: int64"
      ]
     },
     "execution_count": 4,
     "metadata": {},
     "output_type": "execute_result"
    }
   ],
   "source": [
    "data['Is_Churn'].value_counts()"
   ]
  },
  {
   "cell_type": "code",
   "execution_count": 7,
   "metadata": {},
   "outputs": [
    {
     "data": {
      "text/plain": [
       "Poor       3076\n",
       "Average    2043\n",
       "Good       1531\n",
       "Name: Credit_Category, dtype: int64"
      ]
     },
     "execution_count": 7,
     "metadata": {},
     "output_type": "execute_result"
    }
   ],
   "source": [
    "data['Credit_Category'].value_counts()"
   ]
  },
  {
   "cell_type": "code",
   "execution_count": 22,
   "metadata": {},
   "outputs": [
    {
     "data": {
      "text/plain": [
       "1     3200\n",
       "2     3182\n",
       "3+     268\n",
       "Name: Product_Holdings, dtype: int64"
      ]
     },
     "execution_count": 22,
     "metadata": {},
     "output_type": "execute_result"
    }
   ],
   "source": [
    "data['Product_Holdings'].value_counts()"
   ]
  },
  {
   "cell_type": "code",
   "execution_count": 82,
   "metadata": {},
   "outputs": [
    {
     "data": {
      "text/plain": [
       "1    4418\n",
       "0    2232\n",
       "Name: Credit_Card, dtype: int64"
      ]
     },
     "execution_count": 82,
     "metadata": {},
     "output_type": "execute_result"
    }
   ],
   "source": [
    "data['Credit_Card'].value_counts()"
   ]
  },
  {
   "cell_type": "code",
   "execution_count": 83,
   "metadata": {},
   "outputs": [
    {
     "data": {
      "text/html": [
       "<div>\n",
       "<style scoped>\n",
       "    .dataframe tbody tr th:only-of-type {\n",
       "        vertical-align: middle;\n",
       "    }\n",
       "\n",
       "    .dataframe tbody tr th {\n",
       "        vertical-align: top;\n",
       "    }\n",
       "\n",
       "    .dataframe thead th {\n",
       "        text-align: right;\n",
       "    }\n",
       "</style>\n",
       "<table border=\"1\" class=\"dataframe\">\n",
       "  <thead>\n",
       "    <tr style=\"text-align: right;\">\n",
       "      <th></th>\n",
       "      <th>count</th>\n",
       "      <th>mean</th>\n",
       "      <th>std</th>\n",
       "      <th>min</th>\n",
       "      <th>25%</th>\n",
       "      <th>50%</th>\n",
       "      <th>75%</th>\n",
       "      <th>max</th>\n",
       "    </tr>\n",
       "    <tr>\n",
       "      <th>Credit_Card</th>\n",
       "      <th></th>\n",
       "      <th></th>\n",
       "      <th></th>\n",
       "      <th></th>\n",
       "      <th></th>\n",
       "      <th></th>\n",
       "      <th></th>\n",
       "      <th></th>\n",
       "    </tr>\n",
       "  </thead>\n",
       "  <tbody>\n",
       "    <tr>\n",
       "      <th>0</th>\n",
       "      <td>2232.0</td>\n",
       "      <td>0.231631</td>\n",
       "      <td>0.421969</td>\n",
       "      <td>0.0</td>\n",
       "      <td>0.0</td>\n",
       "      <td>0.0</td>\n",
       "      <td>0.0</td>\n",
       "      <td>1.0</td>\n",
       "    </tr>\n",
       "    <tr>\n",
       "      <th>1</th>\n",
       "      <td>4418.0</td>\n",
       "      <td>0.230874</td>\n",
       "      <td>0.421439</td>\n",
       "      <td>0.0</td>\n",
       "      <td>0.0</td>\n",
       "      <td>0.0</td>\n",
       "      <td>0.0</td>\n",
       "      <td>1.0</td>\n",
       "    </tr>\n",
       "  </tbody>\n",
       "</table>\n",
       "</div>"
      ],
      "text/plain": [
       "              count      mean       std  min  25%  50%  75%  max\n",
       "Credit_Card                                                     \n",
       "0            2232.0  0.231631  0.421969  0.0  0.0  0.0  0.0  1.0\n",
       "1            4418.0  0.230874  0.421439  0.0  0.0  0.0  0.0  1.0"
      ]
     },
     "execution_count": 83,
     "metadata": {},
     "output_type": "execute_result"
    }
   ],
   "source": [
    "data.groupby('Credit_Card')['Is_Churn'].describe()"
   ]
  },
  {
   "cell_type": "code",
   "execution_count": 8,
   "metadata": {},
   "outputs": [
    {
     "data": {
      "text/plain": [
       "10L - 15L        1885\n",
       "5L - 10L         1847\n",
       "Less than 5L     1573\n",
       "More than 15L    1345\n",
       "Name: Income, dtype: int64"
      ]
     },
     "execution_count": 8,
     "metadata": {},
     "output_type": "execute_result"
    }
   ],
   "source": [
    "data['Income'].value_counts()"
   ]
  },
  {
   "cell_type": "code",
   "execution_count": 9,
   "metadata": {},
   "outputs": [
    {
     "data": {
      "text/plain": [
       "ID                    0\n",
       "Age                   0\n",
       "Gender                0\n",
       "Income                0\n",
       "Balance               0\n",
       "Vintage               0\n",
       "Transaction_Status    0\n",
       "Product_Holdings      0\n",
       "Credit_Card           0\n",
       "Credit_Category       0\n",
       "Is_Churn              0\n",
       "dtype: int64"
      ]
     },
     "execution_count": 9,
     "metadata": {},
     "output_type": "execute_result"
    }
   ],
   "source": [
    "data.isna().sum()"
   ]
  },
  {
   "cell_type": "code",
   "execution_count": 11,
   "metadata": {},
   "outputs": [
    {
     "data": {
      "text/html": [
       "<div>\n",
       "<style scoped>\n",
       "    .dataframe tbody tr th:only-of-type {\n",
       "        vertical-align: middle;\n",
       "    }\n",
       "\n",
       "    .dataframe tbody tr th {\n",
       "        vertical-align: top;\n",
       "    }\n",
       "\n",
       "    .dataframe thead th {\n",
       "        text-align: right;\n",
       "    }\n",
       "</style>\n",
       "<table border=\"1\" class=\"dataframe\">\n",
       "  <thead>\n",
       "    <tr style=\"text-align: right;\">\n",
       "      <th></th>\n",
       "      <th>count</th>\n",
       "      <th>unique</th>\n",
       "      <th>top</th>\n",
       "      <th>freq</th>\n",
       "      <th>mean</th>\n",
       "      <th>std</th>\n",
       "      <th>min</th>\n",
       "      <th>25%</th>\n",
       "      <th>50%</th>\n",
       "      <th>75%</th>\n",
       "      <th>max</th>\n",
       "    </tr>\n",
       "  </thead>\n",
       "  <tbody>\n",
       "    <tr>\n",
       "      <th>ID</th>\n",
       "      <td>6650</td>\n",
       "      <td>6650</td>\n",
       "      <td>334afe2d</td>\n",
       "      <td>1</td>\n",
       "      <td>NaN</td>\n",
       "      <td>NaN</td>\n",
       "      <td>NaN</td>\n",
       "      <td>NaN</td>\n",
       "      <td>NaN</td>\n",
       "      <td>NaN</td>\n",
       "      <td>NaN</td>\n",
       "    </tr>\n",
       "    <tr>\n",
       "      <th>Age</th>\n",
       "      <td>6650</td>\n",
       "      <td>NaN</td>\n",
       "      <td>NaN</td>\n",
       "      <td>NaN</td>\n",
       "      <td>41.1302</td>\n",
       "      <td>9.68575</td>\n",
       "      <td>21</td>\n",
       "      <td>34</td>\n",
       "      <td>40</td>\n",
       "      <td>47</td>\n",
       "      <td>72</td>\n",
       "    </tr>\n",
       "    <tr>\n",
       "      <th>Gender</th>\n",
       "      <td>6650</td>\n",
       "      <td>2</td>\n",
       "      <td>Male</td>\n",
       "      <td>3612</td>\n",
       "      <td>NaN</td>\n",
       "      <td>NaN</td>\n",
       "      <td>NaN</td>\n",
       "      <td>NaN</td>\n",
       "      <td>NaN</td>\n",
       "      <td>NaN</td>\n",
       "      <td>NaN</td>\n",
       "    </tr>\n",
       "    <tr>\n",
       "      <th>Income</th>\n",
       "      <td>6650</td>\n",
       "      <td>4</td>\n",
       "      <td>10L - 15L</td>\n",
       "      <td>1885</td>\n",
       "      <td>NaN</td>\n",
       "      <td>NaN</td>\n",
       "      <td>NaN</td>\n",
       "      <td>NaN</td>\n",
       "      <td>NaN</td>\n",
       "      <td>NaN</td>\n",
       "      <td>NaN</td>\n",
       "    </tr>\n",
       "    <tr>\n",
       "      <th>Balance</th>\n",
       "      <td>6650</td>\n",
       "      <td>NaN</td>\n",
       "      <td>NaN</td>\n",
       "      <td>NaN</td>\n",
       "      <td>804595</td>\n",
       "      <td>515755</td>\n",
       "      <td>63</td>\n",
       "      <td>392264</td>\n",
       "      <td>764939</td>\n",
       "      <td>1.14712e+06</td>\n",
       "      <td>2.43662e+06</td>\n",
       "    </tr>\n",
       "    <tr>\n",
       "      <th>Vintage</th>\n",
       "      <td>6650</td>\n",
       "      <td>NaN</td>\n",
       "      <td>NaN</td>\n",
       "      <td>NaN</td>\n",
       "      <td>2.25023</td>\n",
       "      <td>1.4588</td>\n",
       "      <td>0</td>\n",
       "      <td>1</td>\n",
       "      <td>2</td>\n",
       "      <td>3</td>\n",
       "      <td>5</td>\n",
       "    </tr>\n",
       "    <tr>\n",
       "      <th>Transaction_Status</th>\n",
       "      <td>6650</td>\n",
       "      <td>NaN</td>\n",
       "      <td>NaN</td>\n",
       "      <td>NaN</td>\n",
       "      <td>0.515789</td>\n",
       "      <td>0.499788</td>\n",
       "      <td>0</td>\n",
       "      <td>0</td>\n",
       "      <td>1</td>\n",
       "      <td>1</td>\n",
       "      <td>1</td>\n",
       "    </tr>\n",
       "    <tr>\n",
       "      <th>Product_Holdings</th>\n",
       "      <td>6650</td>\n",
       "      <td>3</td>\n",
       "      <td>1</td>\n",
       "      <td>3200</td>\n",
       "      <td>NaN</td>\n",
       "      <td>NaN</td>\n",
       "      <td>NaN</td>\n",
       "      <td>NaN</td>\n",
       "      <td>NaN</td>\n",
       "      <td>NaN</td>\n",
       "      <td>NaN</td>\n",
       "    </tr>\n",
       "    <tr>\n",
       "      <th>Credit_Card</th>\n",
       "      <td>6650</td>\n",
       "      <td>NaN</td>\n",
       "      <td>NaN</td>\n",
       "      <td>NaN</td>\n",
       "      <td>0.664361</td>\n",
       "      <td>0.472249</td>\n",
       "      <td>0</td>\n",
       "      <td>0</td>\n",
       "      <td>1</td>\n",
       "      <td>1</td>\n",
       "      <td>1</td>\n",
       "    </tr>\n",
       "    <tr>\n",
       "      <th>Credit_Category</th>\n",
       "      <td>6650</td>\n",
       "      <td>3</td>\n",
       "      <td>Poor</td>\n",
       "      <td>3076</td>\n",
       "      <td>NaN</td>\n",
       "      <td>NaN</td>\n",
       "      <td>NaN</td>\n",
       "      <td>NaN</td>\n",
       "      <td>NaN</td>\n",
       "      <td>NaN</td>\n",
       "      <td>NaN</td>\n",
       "    </tr>\n",
       "    <tr>\n",
       "      <th>Is_Churn</th>\n",
       "      <td>6650</td>\n",
       "      <td>NaN</td>\n",
       "      <td>NaN</td>\n",
       "      <td>NaN</td>\n",
       "      <td>0.231128</td>\n",
       "      <td>0.421586</td>\n",
       "      <td>0</td>\n",
       "      <td>0</td>\n",
       "      <td>0</td>\n",
       "      <td>0</td>\n",
       "      <td>1</td>\n",
       "    </tr>\n",
       "  </tbody>\n",
       "</table>\n",
       "</div>"
      ],
      "text/plain": [
       "                   count unique        top  freq      mean       std  min  \\\n",
       "ID                  6650   6650   334afe2d     1       NaN       NaN  NaN   \n",
       "Age                 6650    NaN        NaN   NaN   41.1302   9.68575   21   \n",
       "Gender              6650      2       Male  3612       NaN       NaN  NaN   \n",
       "Income              6650      4  10L - 15L  1885       NaN       NaN  NaN   \n",
       "Balance             6650    NaN        NaN   NaN    804595    515755   63   \n",
       "Vintage             6650    NaN        NaN   NaN   2.25023    1.4588    0   \n",
       "Transaction_Status  6650    NaN        NaN   NaN  0.515789  0.499788    0   \n",
       "Product_Holdings    6650      3          1  3200       NaN       NaN  NaN   \n",
       "Credit_Card         6650    NaN        NaN   NaN  0.664361  0.472249    0   \n",
       "Credit_Category     6650      3       Poor  3076       NaN       NaN  NaN   \n",
       "Is_Churn            6650    NaN        NaN   NaN  0.231128  0.421586    0   \n",
       "\n",
       "                       25%     50%          75%          max  \n",
       "ID                     NaN     NaN          NaN          NaN  \n",
       "Age                     34      40           47           72  \n",
       "Gender                 NaN     NaN          NaN          NaN  \n",
       "Income                 NaN     NaN          NaN          NaN  \n",
       "Balance             392264  764939  1.14712e+06  2.43662e+06  \n",
       "Vintage                  1       2            3            5  \n",
       "Transaction_Status       0       1            1            1  \n",
       "Product_Holdings       NaN     NaN          NaN          NaN  \n",
       "Credit_Card              0       1            1            1  \n",
       "Credit_Category        NaN     NaN          NaN          NaN  \n",
       "Is_Churn                 0       0            0            1  "
      ]
     },
     "execution_count": 11,
     "metadata": {},
     "output_type": "execute_result"
    }
   ],
   "source": [
    "data.describe(include='all').T"
   ]
  },
  {
   "cell_type": "code",
   "execution_count": 12,
   "metadata": {},
   "outputs": [
    {
     "data": {
      "text/plain": [
       "<matplotlib.axes._subplots.AxesSubplot at 0x1fa69c9c198>"
      ]
     },
     "execution_count": 12,
     "metadata": {},
     "output_type": "execute_result"
    },
    {
     "data": {
      "image/png": "[encoded data removed]",
      "text/plain": [
       "<Figure size 432x288 with 1 Axes>"
      ]
     },
     "metadata": {
      "needs_background": "light"
     },
     "output_type": "display_data"
    }
   ],
   "source": [
    "sns.countplot(x='Income', data=data,hue='Is_Churn')"
   ]
  },
  {
   "cell_type": "code",
   "execution_count": 81,
   "metadata": {},
   "outputs": [
    {
     "data": {
      "text/plain": [
       "<matplotlib.axes._subplots.AxesSubplot at 0x291f808e668>"
      ]
     },
     "execution_count": 81,
     "metadata": {},
     "output_type": "execute_result"
    },
    {
     "data": {
      "image/png": "[encoded data removed]",
      "text/plain": [
       "<Figure size 432x288 with 1 Axes>"
      ]
     },
     "metadata": {
      "needs_background": "light"
     },
     "output_type": "display_data"
    }
   ],
   "source": [
    "sns.countplot(x='Credit_Card', data=data,hue='Is_Churn')"
   ]
  },
  {
   "cell_type": "code",
   "execution_count": null,
   "metadata": {},
   "outputs": [],
   "source": []
  },
  {
   "cell_type": "code",
   "execution_count": 48,
   "metadata": {},
   "outputs": [
    {
     "data": {
      "text/plain": [
       "<matplotlib.axes._subplots.AxesSubplot at 0x291f7c05668>"
      ]
     },
     "execution_count": 48,
     "metadata": {},
     "output_type": "execute_result"
    },
    {
     "data": {
      "image/png": "[encoded data removed]",
      "text/plain": [
       "<Figure size 432x288 with 1 Axes>"
      ]
     },
     "metadata": {
      "needs_background": "light"
     },
     "output_type": "display_data"
    }
   ],
   "source": [
    "sns.countplot(x='Gender', data=data,hue='Is_Churn')"
   ]
  },
  {
   "cell_type": "code",
   "execution_count": 13,
   "metadata": {},
   "outputs": [
    {
     "data": {
      "text/plain": [
       "<matplotlib.axes._subplots.AxesSubplot at 0x1fa6bd84438>"
      ]
     },
     "execution_count": 13,
     "metadata": {},
     "output_type": "execute_result"
    },
    {
     "data": {
      "image/png": "[encoded data removed]",
      "text/plain": [
       "<Figure size 432x288 with 1 Axes>"
      ]
     },
     "metadata": {
      "needs_background": "light"
     },
     "output_type": "display_data"
    }
   ],
   "source": [
    "sns.countplot(x='Credit_Category', data=data,hue='Is_Churn')"
   ]
  },
  {
   "cell_type": "code",
   "execution_count": 23,
   "metadata": {},
   "outputs": [
    {
     "data": {
      "text/plain": [
       "<matplotlib.axes._subplots.AxesSubplot at 0x1fa6be39eb8>"
      ]
     },
     "execution_count": 23,
     "metadata": {},
     "output_type": "execute_result"
    },
    {
     "data": {
      "image/png": "[encoded data removed]",
      "text/plain": [
       "<Figure size 432x288 with 1 Axes>"
      ]
     },
     "metadata": {
      "needs_background": "light"
     },
     "output_type": "display_data"
    }
   ],
   "source": [
    "sns.countplot(x='Product_Holdings', data=data,hue='Is_Churn')"
   ]
  },
  {
   "cell_type": "code",
   "execution_count": 28,
   "metadata": {},
   "outputs": [
    {
     "data": {
      "text/plain": [
       "<matplotlib.axes._subplots.AxesSubplot at 0x1fa6e76d4a8>"
      ]
     },
     "execution_count": 28,
     "metadata": {},
     "output_type": "execute_result"
    },
    {
     "data": {
      "image/png": "[encoded data removed]",
      "text/plain": [
       "<Figure size 432x288 with 1 Axes>"
      ]
     },
     "metadata": {
      "needs_background": "light"
     },
     "output_type": "display_data"
    }
   ],
   "source": [
    "sns.countplot(x='Transaction_Status', data=data,hue='Is_Churn')"
   ]
  },
  {
   "cell_type": "code",
   "execution_count": 68,
   "metadata": {},
   "outputs": [
    {
     "data": {
      "text/plain": [
       "array([<matplotlib.axes._subplots.AxesSubplot object at 0x000001FA06F7AC18>,\n",
       "       <matplotlib.axes._subplots.AxesSubplot object at 0x000001FA06FAB9E8>],\n",
       "      dtype=object)"
      ]
     },
     "execution_count": 68,
     "metadata": {},
     "output_type": "execute_result"
    },
    {
     "data": {
      "image/png": "[encoded data removed]",
      "text/plain": [
       "<Figure size 432x288 with 2 Axes>"
      ]
     },
     "metadata": {
      "needs_background": "light"
     },
     "output_type": "display_data"
    }
   ],
   "source": [
    "data.hist(column='Age',by='Is_Churn',bins=7)"
   ]
  },
  {
   "cell_type": "code",
   "execution_count": 69,
   "metadata": {},
   "outputs": [
    {
     "data": {
      "text/plain": [
       "array([<matplotlib.axes._subplots.AxesSubplot object at 0x000001FA06FDE828>,\n",
       "       <matplotlib.axes._subplots.AxesSubplot object at 0x000001FA07079048>],\n",
       "      dtype=object)"
      ]
     },
     "execution_count": 69,
     "metadata": {},
     "output_type": "execute_result"
    },
    {
     "data": {
      "image/png": "[encoded data removed]",
      "text/plain": [
       "<Figure size 432x288 with 2 Axes>"
      ]
     },
     "metadata": {
      "needs_background": "light"
     },
     "output_type": "display_data"
    }
   ],
   "source": [
    "data.hist(column='Balance',by='Is_Churn',bins=7)"
   ]
  },
  {
   "cell_type": "code",
   "execution_count": 14,
   "metadata": {},
   "outputs": [
    {
     "data": {
      "text/html": [
       "<div>\n",
       "<style scoped>\n",
       "    .dataframe tbody tr th:only-of-type {\n",
       "        vertical-align: middle;\n",
       "    }\n",
       "\n",
       "    .dataframe tbody tr th {\n",
       "        vertical-align: top;\n",
       "    }\n",
       "\n",
       "    .dataframe thead th {\n",
       "        text-align: right;\n",
       "    }\n",
       "</style>\n",
       "<table border=\"1\" class=\"dataframe\">\n",
       "  <thead>\n",
       "    <tr style=\"text-align: right;\">\n",
       "      <th></th>\n",
       "      <th>Age</th>\n",
       "      <th>Balance</th>\n",
       "      <th>Vintage</th>\n",
       "      <th>Transaction_Status</th>\n",
       "      <th>Credit_Card</th>\n",
       "      <th>Is_Churn</th>\n",
       "    </tr>\n",
       "  </thead>\n",
       "  <tbody>\n",
       "    <tr>\n",
       "      <th>Age</th>\n",
       "      <td>1.000000</td>\n",
       "      <td>0.002154</td>\n",
       "      <td>0.017353</td>\n",
       "      <td>0.032166</td>\n",
       "      <td>0.012089</td>\n",
       "      <td>0.204301</td>\n",
       "    </tr>\n",
       "    <tr>\n",
       "      <th>Balance</th>\n",
       "      <td>0.002154</td>\n",
       "      <td>1.000000</td>\n",
       "      <td>-0.019385</td>\n",
       "      <td>-0.005088</td>\n",
       "      <td>-0.025259</td>\n",
       "      <td>0.056380</td>\n",
       "    </tr>\n",
       "    <tr>\n",
       "      <th>Vintage</th>\n",
       "      <td>0.017353</td>\n",
       "      <td>-0.019385</td>\n",
       "      <td>1.000000</td>\n",
       "      <td>-0.027286</td>\n",
       "      <td>0.001856</td>\n",
       "      <td>0.020152</td>\n",
       "    </tr>\n",
       "    <tr>\n",
       "      <th>Transaction_Status</th>\n",
       "      <td>0.032166</td>\n",
       "      <td>-0.005088</td>\n",
       "      <td>-0.027286</td>\n",
       "      <td>1.000000</td>\n",
       "      <td>0.006526</td>\n",
       "      <td>-0.086917</td>\n",
       "    </tr>\n",
       "    <tr>\n",
       "      <th>Credit_Card</th>\n",
       "      <td>0.012089</td>\n",
       "      <td>-0.025259</td>\n",
       "      <td>0.001856</td>\n",
       "      <td>0.006526</td>\n",
       "      <td>1.000000</td>\n",
       "      <td>-0.000848</td>\n",
       "    </tr>\n",
       "    <tr>\n",
       "      <th>Is_Churn</th>\n",
       "      <td>0.204301</td>\n",
       "      <td>0.056380</td>\n",
       "      <td>0.020152</td>\n",
       "      <td>-0.086917</td>\n",
       "      <td>-0.000848</td>\n",
       "      <td>1.000000</td>\n",
       "    </tr>\n",
       "  </tbody>\n",
       "</table>\n",
       "</div>"
      ],
      "text/plain": [
       "                         Age   Balance   Vintage  Transaction_Status  \\\n",
       "Age                 1.000000  0.002154  0.017353            0.032166   \n",
       "Balance             0.002154  1.000000 -0.019385           -0.005088   \n",
       "Vintage             0.017353 -0.019385  1.000000           -0.027286   \n",
       "Transaction_Status  0.032166 -0.005088 -0.027286            1.000000   \n",
       "Credit_Card         0.012089 -0.025259  0.001856            0.006526   \n",
       "Is_Churn            0.204301  0.056380  0.020152           -0.086917   \n",
       "\n",
       "                    Credit_Card  Is_Churn  \n",
       "Age                    0.012089  0.204301  \n",
       "Balance               -0.025259  0.056380  \n",
       "Vintage                0.001856  0.020152  \n",
       "Transaction_Status     0.006526 -0.086917  \n",
       "Credit_Card            1.000000 -0.000848  \n",
       "Is_Churn              -0.000848  1.000000  "
      ]
     },
     "execution_count": 14,
     "metadata": {},
     "output_type": "execute_result"
    }
   ],
   "source": [
    "data.corr()"
   ]
  },
  {
   "cell_type": "code",
   "execution_count": 15,
   "metadata": {},
   "outputs": [
    {
     "data": {
      "text/plain": [
       "<matplotlib.axes._subplots.AxesSubplot at 0x1fa6bdee400>"
      ]
     },
     "execution_count": 15,
     "metadata": {},
     "output_type": "execute_result"
    },
    {
     "data": {
      "image/png": "[encoded data removed]",
      "text/plain": [
       "<Figure size 432x288 with 1 Axes>"
      ]
     },
     "metadata": {},
     "output_type": "display_data"
    }
   ],
   "source": [
    "data['Is_Churn'].value_counts().plot.pie(autopct=\"%1.1f%%\")"
   ]
  },
  {
   "cell_type": "code",
   "execution_count": 16,
   "metadata": {},
   "outputs": [
    {
     "name": "stdout",
     "output_type": "stream",
     "text": [
      "P-value:  0.005785995893842243\n"
     ]
    }
   ],
   "source": [
    "from scipy.stats import chi2_contingency\n",
    "csq=chi2_contingency(pd.crosstab(data['Credit_Category'], data['Is_Churn']))\n",
    "print(\"P-value: \",csq[1])"
   ]
  },
  {
   "cell_type": "code",
   "execution_count": 24,
   "metadata": {},
   "outputs": [
    {
     "name": "stderr",
     "output_type": "stream",
     "text": [
      "C:\\Users\\rashmi\\AppData\\Local\\Continuum\\anaconda3\\lib\\site-packages\\scipy\\stats\\stats.py:1713: FutureWarning: Using a non-tuple sequence for multidimensional indexing is deprecated; use `arr[tuple(seq)]` instead of `arr[seq]`. In the future this will be interpreted as an array index, `arr[np.array(seq)]`, which will result either in an error or a different result.\n",
      "  return np.add.reduce(sorted[indexer] * weights, axis=axis) / sumval\n",
      "C:\\Users\\rashmi\\AppData\\Local\\Continuum\\anaconda3\\lib\\site-packages\\statsmodels\\nonparametric\\kde.py:488: RuntimeWarning: invalid value encountered in true_divide\n",
      "  binned = fast_linbin(X, a, b, gridsize) / (delta * nobs)\n",
      "C:\\Users\\rashmi\\AppData\\Local\\Continuum\\anaconda3\\lib\\site-packages\\statsmodels\\nonparametric\\kdetools.py:34: RuntimeWarning: invalid value encountered in double_scalars\n",
      "  FAC1 = 2*(np.pi*bw/RANGE)**2\n"
     ]
    },
    {
     "data": {
      "text/plain": [
       "<seaborn.axisgrid.PairGrid at 0x1fa6beab550>"
      ]
     },
     "execution_count": 24,
     "metadata": {},
     "output_type": "execute_result"
    },
    {
     "data": {
      "image/png": "[encoded data removed]",
      "text/plain": [
       "<Figure size 1491.25x1440 with 72 Axes>"
      ]
     },
     "metadata": {
      "needs_background": "light"
     },
     "output_type": "display_data"
    }
   ],
   "source": [
    "sns.pairplot(data,hue='Is_Churn')"
   ]
  },
  {
   "cell_type": "markdown",
   "metadata": {},
   "source": [
    "# Data PreProcessing"
   ]
  },
  {
   "cell_type": "code",
   "execution_count": 3,
   "metadata": {},
   "outputs": [],
   "source": [
    "#encoding categorical variable\n",
    "data.replace({'Credit_Category': {'Poor': -1, 'Average': 0,'Good':1},'Income':{'Less than 5L':1,'5L - 10L':2,'10L - 15L':3,'More than 15L':4}},inplace=True)"
   ]
  },
  {
   "cell_type": "code",
   "execution_count": 4,
   "metadata": {},
   "outputs": [],
   "source": [
    "data.replace({'Product_Holdings': {'1': 1, '2': 2,'3+':3}},inplace=True)"
   ]
  },
  {
   "cell_type": "code",
   "execution_count": 5,
   "metadata": {},
   "outputs": [
    {
     "data": {
      "text/html": [
       "<div>\n",
       "<style scoped>\n",
       "    .dataframe tbody tr th:only-of-type {\n",
       "        vertical-align: middle;\n",
       "    }\n",
       "\n",
       "    .dataframe tbody tr th {\n",
       "        vertical-align: top;\n",
       "    }\n",
       "\n",
       "    .dataframe thead th {\n",
       "        text-align: right;\n",
       "    }\n",
       "</style>\n",
       "<table border=\"1\" class=\"dataframe\">\n",
       "  <thead>\n",
       "    <tr style=\"text-align: right;\">\n",
       "      <th></th>\n",
       "      <th>ID</th>\n",
       "      <th>Age</th>\n",
       "      <th>Gender</th>\n",
       "      <th>Income</th>\n",
       "      <th>Balance</th>\n",
       "      <th>Vintage</th>\n",
       "      <th>Transaction_Status</th>\n",
       "      <th>Product_Holdings</th>\n",
       "      <th>Credit_Card</th>\n",
       "      <th>Credit_Category</th>\n",
       "      <th>Is_Churn</th>\n",
       "    </tr>\n",
       "  </thead>\n",
       "  <tbody>\n",
       "    <tr>\n",
       "      <td>0</td>\n",
       "      <td>84e2fcc9</td>\n",
       "      <td>36</td>\n",
       "      <td>Female</td>\n",
       "      <td>2</td>\n",
       "      <td>563266.44</td>\n",
       "      <td>4</td>\n",
       "      <td>0</td>\n",
       "      <td>1</td>\n",
       "      <td>0</td>\n",
       "      <td>0</td>\n",
       "      <td>1</td>\n",
       "    </tr>\n",
       "    <tr>\n",
       "      <td>1</td>\n",
       "      <td>57fea15e</td>\n",
       "      <td>53</td>\n",
       "      <td>Female</td>\n",
       "      <td>1</td>\n",
       "      <td>875572.11</td>\n",
       "      <td>2</td>\n",
       "      <td>1</td>\n",
       "      <td>1</td>\n",
       "      <td>1</td>\n",
       "      <td>-1</td>\n",
       "      <td>0</td>\n",
       "    </tr>\n",
       "    <tr>\n",
       "      <td>2</td>\n",
       "      <td>8df34ef3</td>\n",
       "      <td>35</td>\n",
       "      <td>Female</td>\n",
       "      <td>4</td>\n",
       "      <td>701607.06</td>\n",
       "      <td>2</td>\n",
       "      <td>1</td>\n",
       "      <td>2</td>\n",
       "      <td>0</td>\n",
       "      <td>-1</td>\n",
       "      <td>0</td>\n",
       "    </tr>\n",
       "    <tr>\n",
       "      <td>3</td>\n",
       "      <td>c5c0788b</td>\n",
       "      <td>43</td>\n",
       "      <td>Female</td>\n",
       "      <td>4</td>\n",
       "      <td>1393922.16</td>\n",
       "      <td>0</td>\n",
       "      <td>1</td>\n",
       "      <td>2</td>\n",
       "      <td>1</td>\n",
       "      <td>-1</td>\n",
       "      <td>1</td>\n",
       "    </tr>\n",
       "    <tr>\n",
       "      <td>4</td>\n",
       "      <td>951d69c4</td>\n",
       "      <td>39</td>\n",
       "      <td>Female</td>\n",
       "      <td>4</td>\n",
       "      <td>893146.23</td>\n",
       "      <td>1</td>\n",
       "      <td>1</td>\n",
       "      <td>1</td>\n",
       "      <td>1</td>\n",
       "      <td>1</td>\n",
       "      <td>1</td>\n",
       "    </tr>\n",
       "  </tbody>\n",
       "</table>\n",
       "</div>"
      ],
      "text/plain": [
       "         ID  Age  Gender  Income     Balance  Vintage  Transaction_Status  \\\n",
       "0  84e2fcc9   36  Female       2   563266.44        4                   0   \n",
       "1  57fea15e   53  Female       1   875572.11        2                   1   \n",
       "2  8df34ef3   35  Female       4   701607.06        2                   1   \n",
       "3  c5c0788b   43  Female       4  1393922.16        0                   1   \n",
       "4  951d69c4   39  Female       4   893146.23        1                   1   \n",
       "\n",
       "   Product_Holdings  Credit_Card  Credit_Category  Is_Churn  \n",
       "0                 1            0                0         1  \n",
       "1                 1            1               -1         0  \n",
       "2                 2            0               -1         0  \n",
       "3                 2            1               -1         1  \n",
       "4                 1            1                1         1  "
      ]
     },
     "execution_count": 5,
     "metadata": {},
     "output_type": "execute_result"
    }
   ],
   "source": [
    "data.head()"
   ]
  },
  {
   "cell_type": "code",
   "execution_count": 6,
   "metadata": {},
   "outputs": [],
   "source": [
    "data.replace({'Gender': {'Male': 0, 'Female': 1}},inplace=True)\n"
   ]
  },
  {
   "cell_type": "code",
   "execution_count": 7,
   "metadata": {},
   "outputs": [
    {
     "data": {
      "text/html": [
       "<div>\n",
       "<style scoped>\n",
       "    .dataframe tbody tr th:only-of-type {\n",
       "        vertical-align: middle;\n",
       "    }\n",
       "\n",
       "    .dataframe tbody tr th {\n",
       "        vertical-align: top;\n",
       "    }\n",
       "\n",
       "    .dataframe thead th {\n",
       "        text-align: right;\n",
       "    }\n",
       "</style>\n",
       "<table border=\"1\" class=\"dataframe\">\n",
       "  <thead>\n",
       "    <tr style=\"text-align: right;\">\n",
       "      <th></th>\n",
       "      <th>ID</th>\n",
       "      <th>Age</th>\n",
       "      <th>Gender</th>\n",
       "      <th>Income</th>\n",
       "      <th>Balance</th>\n",
       "      <th>Vintage</th>\n",
       "      <th>Transaction_Status</th>\n",
       "      <th>Product_Holdings</th>\n",
       "      <th>Credit_Card</th>\n",
       "      <th>Credit_Category</th>\n",
       "      <th>Is_Churn</th>\n",
       "    </tr>\n",
       "  </thead>\n",
       "  <tbody>\n",
       "    <tr>\n",
       "      <td>0</td>\n",
       "      <td>84e2fcc9</td>\n",
       "      <td>36</td>\n",
       "      <td>1</td>\n",
       "      <td>2</td>\n",
       "      <td>563266.44</td>\n",
       "      <td>4</td>\n",
       "      <td>0</td>\n",
       "      <td>1</td>\n",
       "      <td>0</td>\n",
       "      <td>0</td>\n",
       "      <td>1</td>\n",
       "    </tr>\n",
       "    <tr>\n",
       "      <td>1</td>\n",
       "      <td>57fea15e</td>\n",
       "      <td>53</td>\n",
       "      <td>1</td>\n",
       "      <td>1</td>\n",
       "      <td>875572.11</td>\n",
       "      <td>2</td>\n",
       "      <td>1</td>\n",
       "      <td>1</td>\n",
       "      <td>1</td>\n",
       "      <td>-1</td>\n",
       "      <td>0</td>\n",
       "    </tr>\n",
       "    <tr>\n",
       "      <td>2</td>\n",
       "      <td>8df34ef3</td>\n",
       "      <td>35</td>\n",
       "      <td>1</td>\n",
       "      <td>4</td>\n",
       "      <td>701607.06</td>\n",
       "      <td>2</td>\n",
       "      <td>1</td>\n",
       "      <td>2</td>\n",
       "      <td>0</td>\n",
       "      <td>-1</td>\n",
       "      <td>0</td>\n",
       "    </tr>\n",
       "    <tr>\n",
       "      <td>3</td>\n",
       "      <td>c5c0788b</td>\n",
       "      <td>43</td>\n",
       "      <td>1</td>\n",
       "      <td>4</td>\n",
       "      <td>1393922.16</td>\n",
       "      <td>0</td>\n",
       "      <td>1</td>\n",
       "      <td>2</td>\n",
       "      <td>1</td>\n",
       "      <td>-1</td>\n",
       "      <td>1</td>\n",
       "    </tr>\n",
       "    <tr>\n",
       "      <td>4</td>\n",
       "      <td>951d69c4</td>\n",
       "      <td>39</td>\n",
       "      <td>1</td>\n",
       "      <td>4</td>\n",
       "      <td>893146.23</td>\n",
       "      <td>1</td>\n",
       "      <td>1</td>\n",
       "      <td>1</td>\n",
       "      <td>1</td>\n",
       "      <td>1</td>\n",
       "      <td>1</td>\n",
       "    </tr>\n",
       "  </tbody>\n",
       "</table>\n",
       "</div>"
      ],
      "text/plain": [
       "         ID  Age  Gender  Income     Balance  Vintage  Transaction_Status  \\\n",
       "0  84e2fcc9   36       1       2   563266.44        4                   0   \n",
       "1  57fea15e   53       1       1   875572.11        2                   1   \n",
       "2  8df34ef3   35       1       4   701607.06        2                   1   \n",
       "3  c5c0788b   43       1       4  1393922.16        0                   1   \n",
       "4  951d69c4   39       1       4   893146.23        1                   1   \n",
       "\n",
       "   Product_Holdings  Credit_Card  Credit_Category  Is_Churn  \n",
       "0                 1            0                0         1  \n",
       "1                 1            1               -1         0  \n",
       "2                 2            0               -1         0  \n",
       "3                 2            1               -1         1  \n",
       "4                 1            1                1         1  "
      ]
     },
     "execution_count": 7,
     "metadata": {},
     "output_type": "execute_result"
    }
   ],
   "source": [
    "data.head()"
   ]
  },
  {
   "cell_type": "code",
   "execution_count": 8,
   "metadata": {},
   "outputs": [],
   "source": [
    "def preprocess(data):\n",
    "    #encoding categorical variable\n",
    "    data.replace({'Credit_Category': {'Poor': -1, 'Average': 0,'Good':1},'Income':{'Less than 5L':1,'5L - 10L':2,'10L - 15L':3,'More than 15L':4}},inplace=True)\n",
    "    data.replace({'Product_Holdings': {'1': 1, '2': 2,'3+':3}},inplace=True)\n",
    "    data.replace({'Gender': {'Male': 0, 'Female': 1}},inplace=True)\n",
    "    #data.drop('ID',axis=1,inplace=True)\n",
    "    return data\n",
    "    \n",
    "\n",
    "    "
   ]
  },
  {
   "cell_type": "markdown",
   "metadata": {},
   "source": [
    "# Model building before Feature Engineering"
   ]
  },
  {
   "cell_type": "code",
   "execution_count": 10,
   "metadata": {},
   "outputs": [],
   "source": [
    "from sklearn.ensemble import RandomForestClassifier\n",
    "from sklearn.model_selection import train_test_split\n",
    "from sklearn.model_selection import cross_val_score\n",
    "from sklearn.model_selection import GridSearchCV\n",
    "from sklearn.metrics import accuracy_score\n",
    "from sklearn.metrics import classification_report\n",
    "from sklearn.metrics import confusion_matrix\n",
    "from sklearn.metrics import roc_auc_score\n",
    "from sklearn.metrics import recall_score\n",
    "from sklearn.metrics import precision_score\n",
    "from sklearn.model_selection import RandomizedSearchCV"
   ]
  },
  {
   "cell_type": "code",
   "execution_count": 11,
   "metadata": {},
   "outputs": [],
   "source": [
    "y=data['Is_Churn']\n",
    "X=data.drop(['Is_Churn','ID'],axis=1)\n",
    "X_train, X_test, y_train, y_test = train_test_split(X,y,test_size=.25)"
   ]
  },
  {
   "cell_type": "code",
   "execution_count": 84,
   "metadata": {},
   "outputs": [
    {
     "data": {
      "text/plain": [
       "RandomForestClassifier(bootstrap=True, ccp_alpha=0.0, class_weight=None,\n",
       "                       criterion='gini', max_depth=None, max_features='auto',\n",
       "                       max_leaf_nodes=None, max_samples=None,\n",
       "                       min_impurity_decrease=0.0, min_impurity_split=None,\n",
       "                       min_samples_leaf=1, min_samples_split=2,\n",
       "                       min_weight_fraction_leaf=0.0, n_estimators=5000,\n",
       "                       n_jobs=None, oob_score=False, random_state=42, verbose=0,\n",
       "                       warm_start=False)"
      ]
     },
     "execution_count": 84,
     "metadata": {},
     "output_type": "execute_result"
    }
   ],
   "source": [
    "rfc1=RandomForestClassifier(random_state=42, max_features='auto', n_estimators= 5000,criterion='gini')\n",
    "rfc1.fit(X_train, y_train)"
   ]
  },
  {
   "cell_type": "code",
   "execution_count": 86,
   "metadata": {},
   "outputs": [
    {
     "data": {
      "text/plain": [
       "array([0.26043556, 0.03306798, 0.08141061, 0.35055813, 0.11256587,\n",
       "       0.02129288, 0.0451383 , 0.03688529, 0.05864538])"
      ]
     },
     "execution_count": 86,
     "metadata": {},
     "output_type": "execute_result"
    }
   ],
   "source": [
    "rfc1.feature_importances_"
   ]
  },
  {
   "cell_type": "code",
   "execution_count": 87,
   "metadata": {},
   "outputs": [
    {
     "data": {
      "text/plain": [
       "Index(['Age', 'Gender', 'Income', 'Balance', 'Vintage', 'Transaction_Status',\n",
       "       'Product_Holdings', 'Credit_Card', 'Credit_Category'],\n",
       "      dtype='object')"
      ]
     },
     "execution_count": 87,
     "metadata": {},
     "output_type": "execute_result"
    }
   ],
   "source": [
    "X_train.columns"
   ]
  },
  {
   "cell_type": "code",
   "execution_count": 12,
   "metadata": {},
   "outputs": [
    {
     "name": "stdout",
     "output_type": "stream",
     "text": [
      "[0 0 0 ... 0 0 0]\n"
     ]
    }
   ],
   "source": [
    "pred=rfc1.predict(X_test)\n",
    "print(pred)"
   ]
  },
  {
   "cell_type": "code",
   "execution_count": 43,
   "metadata": {},
   "outputs": [],
   "source": [
    "def draw_confusion_matrix(cm):\n",
    "    plt.figure(figsize=(12,8))\n",
    "    sns.heatmap(cm,annot=True,fmt=\"d\", center=0, cmap='autumn') \n",
    "    plt.title(\"Confusion Matrix\")\n",
    "    plt.ylabel('True label')\n",
    "    plt.xlabel('Predicted label')\n",
    "    plt.show()"
   ]
  },
  {
   "cell_type": "code",
   "execution_count": 44,
   "metadata": {},
   "outputs": [
    {
     "data": {
      "image/png": "[encoded data removed]",
      "text/plain": [
       "<Figure size 864x576 with 2 Axes>"
      ]
     },
     "metadata": {
      "needs_background": "light"
     },
     "output_type": "display_data"
    }
   ],
   "source": [
    "draw_confusion_matrix(confusion_matrix(y_test,pred))"
   ]
  },
  {
   "cell_type": "code",
   "execution_count": 45,
   "metadata": {},
   "outputs": [
    {
     "name": "stdout",
     "output_type": "stream",
     "text": [
      "Accuracy for Random Forest on CV data:  0.7498496692723993\n",
      "              precision    recall  f1-score   support\n",
      "\n",
      "           0       0.77      0.95      0.85      1275\n",
      "           1       0.35      0.09      0.14       388\n",
      "\n",
      "    accuracy                           0.75      1663\n",
      "   macro avg       0.56      0.52      0.50      1663\n",
      "weighted avg       0.68      0.75      0.69      1663\n",
      "\n"
     ]
    }
   ],
   "source": [
    "print(\"Accuracy for Random Forest on CV data: \",accuracy_score(y_test,pred))\n",
    "print(classification_report(y_test,pred))"
   ]
  },
  {
   "cell_type": "code",
   "execution_count": 15,
   "metadata": {},
   "outputs": [
    {
     "name": "stdout",
     "output_type": "stream",
     "text": [
      "recall 0.7576668671076368\n",
      "precision 0.6932266228330233\n"
     ]
    }
   ],
   "source": [
    "print(\"recall\",recall_score(y_test,pred,average='weighted'))\n",
    "print(\"precision\",precision_score(y_test,pred,average='weighted'))"
   ]
  },
  {
   "cell_type": "code",
   "execution_count": 85,
   "metadata": {},
   "outputs": [
    {
     "name": "stdout",
     "output_type": "stream",
     "text": [
      "recall 0.09020618556701031\n",
      "precision 0.3645833333333333\n"
     ]
    }
   ],
   "source": [
    "print(\"recall\",recall_score(y_test,pred))\n",
    "print(\"precision\",precision_score(y_test,pred))"
   ]
  },
  {
   "cell_type": "code",
   "execution_count": 72,
   "metadata": {},
   "outputs": [
    {
     "name": "stdout",
     "output_type": "stream",
     "text": [
      "Accuracy for Random Forest on CV data:  0.751052315093205\n",
      "              precision    recall  f1-score   support\n",
      "\n",
      "           0       0.77      0.95      0.85      1275\n",
      "           1       0.36      0.09      0.14       388\n",
      "\n",
      "    accuracy                           0.75      1663\n",
      "   macro avg       0.57      0.52      0.50      1663\n",
      "weighted avg       0.68      0.75      0.69      1663\n",
      "\n"
     ]
    }
   ],
   "source": [
    "print(\"Accuracy for Random Forest on CV data: \",accuracy_score(y_test,pred))\n",
    "print(classification_report(y_test,pred))"
   ]
  },
  {
   "cell_type": "code",
   "execution_count": 48,
   "metadata": {},
   "outputs": [
    {
     "name": "stdout",
     "output_type": "stream",
     "text": [
      "roc auc score 0.5638750758035174\n"
     ]
    }
   ],
   "source": [
    "y_pred_prob=rfc1.predict_proba(X_test)\n",
    "print(\"roc auc score\",roc_auc_score(y_test,y_pred_prob[:,1]))"
   ]
  },
  {
   "cell_type": "code",
   "execution_count": 73,
   "metadata": {},
   "outputs": [
    {
     "name": "stdout",
     "output_type": "stream",
     "text": [
      "roc auc score 0.5654224782696584\n"
     ]
    }
   ],
   "source": [
    "y_pred_prob=rfc1.predict_proba(X_test)\n",
    "print(\"roc auc score\",roc_auc_score(y_test,y_pred_prob[:,1]))"
   ]
  },
  {
   "cell_type": "code",
   "execution_count": 21,
   "metadata": {},
   "outputs": [
    {
     "data": {
      "text/html": [
       "<div>\n",
       "<style scoped>\n",
       "    .dataframe tbody tr th:only-of-type {\n",
       "        vertical-align: middle;\n",
       "    }\n",
       "\n",
       "    .dataframe tbody tr th {\n",
       "        vertical-align: top;\n",
       "    }\n",
       "\n",
       "    .dataframe thead th {\n",
       "        text-align: right;\n",
       "    }\n",
       "</style>\n",
       "<table border=\"1\" class=\"dataframe\">\n",
       "  <thead>\n",
       "    <tr style=\"text-align: right;\">\n",
       "      <th></th>\n",
       "      <th>ID</th>\n",
       "      <th>Age</th>\n",
       "      <th>Gender</th>\n",
       "      <th>Income</th>\n",
       "      <th>Balance</th>\n",
       "      <th>Vintage</th>\n",
       "      <th>Transaction_Status</th>\n",
       "      <th>Product_Holdings</th>\n",
       "      <th>Credit_Card</th>\n",
       "      <th>Credit_Category</th>\n",
       "    </tr>\n",
       "  </thead>\n",
       "  <tbody>\n",
       "    <tr>\n",
       "      <td>0</td>\n",
       "      <td>55480787</td>\n",
       "      <td>50</td>\n",
       "      <td>1</td>\n",
       "      <td>4</td>\n",
       "      <td>1008636.39</td>\n",
       "      <td>2</td>\n",
       "      <td>1</td>\n",
       "      <td>2</td>\n",
       "      <td>1</td>\n",
       "      <td>0</td>\n",
       "    </tr>\n",
       "    <tr>\n",
       "      <td>1</td>\n",
       "      <td>9aededf2</td>\n",
       "      <td>36</td>\n",
       "      <td>0</td>\n",
       "      <td>2</td>\n",
       "      <td>341460.72</td>\n",
       "      <td>2</td>\n",
       "      <td>0</td>\n",
       "      <td>2</td>\n",
       "      <td>1</td>\n",
       "      <td>0</td>\n",
       "    </tr>\n",
       "    <tr>\n",
       "      <td>2</td>\n",
       "      <td>a5034a09</td>\n",
       "      <td>25</td>\n",
       "      <td>1</td>\n",
       "      <td>3</td>\n",
       "      <td>439460.10</td>\n",
       "      <td>0</td>\n",
       "      <td>0</td>\n",
       "      <td>2</td>\n",
       "      <td>1</td>\n",
       "      <td>1</td>\n",
       "    </tr>\n",
       "    <tr>\n",
       "      <td>3</td>\n",
       "      <td>b3256702</td>\n",
       "      <td>41</td>\n",
       "      <td>0</td>\n",
       "      <td>1</td>\n",
       "      <td>28581.93</td>\n",
       "      <td>0</td>\n",
       "      <td>1</td>\n",
       "      <td>2</td>\n",
       "      <td>1</td>\n",
       "      <td>-1</td>\n",
       "    </tr>\n",
       "    <tr>\n",
       "      <td>4</td>\n",
       "      <td>dc28adb5</td>\n",
       "      <td>48</td>\n",
       "      <td>0</td>\n",
       "      <td>4</td>\n",
       "      <td>1104540.03</td>\n",
       "      <td>2</td>\n",
       "      <td>1</td>\n",
       "      <td>3</td>\n",
       "      <td>0</td>\n",
       "      <td>1</td>\n",
       "    </tr>\n",
       "  </tbody>\n",
       "</table>\n",
       "</div>"
      ],
      "text/plain": [
       "         ID  Age  Gender  Income     Balance  Vintage  Transaction_Status  \\\n",
       "0  55480787   50       1       4  1008636.39        2                   1   \n",
       "1  9aededf2   36       0       2   341460.72        2                   0   \n",
       "2  a5034a09   25       1       3   439460.10        0                   0   \n",
       "3  b3256702   41       0       1    28581.93        0                   1   \n",
       "4  dc28adb5   48       0       4  1104540.03        2                   1   \n",
       "\n",
       "   Product_Holdings  Credit_Card  Credit_Category  \n",
       "0                 2            1                0  \n",
       "1                 2            1                0  \n",
       "2                 2            1                1  \n",
       "3                 2            1               -1  \n",
       "4                 3            0                1  "
      ]
     },
     "execution_count": 21,
     "metadata": {},
     "output_type": "execute_result"
    }
   ],
   "source": [
    "test=pd.read_csv('test.csv')\n",
    "test_run=test.copy()\n",
    "test_data=preprocess(test_run)\n",
    "test_data.head()"
   ]
  },
  {
   "cell_type": "code",
   "execution_count": 59,
   "metadata": {},
   "outputs": [
    {
     "data": {
      "text/html": [
       "<div>\n",
       "<style scoped>\n",
       "    .dataframe tbody tr th:only-of-type {\n",
       "        vertical-align: middle;\n",
       "    }\n",
       "\n",
       "    .dataframe tbody tr th {\n",
       "        vertical-align: top;\n",
       "    }\n",
       "\n",
       "    .dataframe thead th {\n",
       "        text-align: right;\n",
       "    }\n",
       "</style>\n",
       "<table border=\"1\" class=\"dataframe\">\n",
       "  <thead>\n",
       "    <tr style=\"text-align: right;\">\n",
       "      <th></th>\n",
       "      <th>Age</th>\n",
       "      <th>Gender</th>\n",
       "      <th>Income</th>\n",
       "      <th>Balance</th>\n",
       "      <th>Vintage</th>\n",
       "      <th>Transaction_Status</th>\n",
       "      <th>Product_Holdings</th>\n",
       "      <th>Credit_Card</th>\n",
       "      <th>Credit_Category</th>\n",
       "    </tr>\n",
       "  </thead>\n",
       "  <tbody>\n",
       "    <tr>\n",
       "      <th>0</th>\n",
       "      <td>50</td>\n",
       "      <td>1</td>\n",
       "      <td>4</td>\n",
       "      <td>1008636.39</td>\n",
       "      <td>2</td>\n",
       "      <td>1</td>\n",
       "      <td>2</td>\n",
       "      <td>1</td>\n",
       "      <td>0</td>\n",
       "    </tr>\n",
       "    <tr>\n",
       "      <th>1</th>\n",
       "      <td>36</td>\n",
       "      <td>0</td>\n",
       "      <td>2</td>\n",
       "      <td>341460.72</td>\n",
       "      <td>2</td>\n",
       "      <td>0</td>\n",
       "      <td>2</td>\n",
       "      <td>1</td>\n",
       "      <td>0</td>\n",
       "    </tr>\n",
       "    <tr>\n",
       "      <th>2</th>\n",
       "      <td>25</td>\n",
       "      <td>1</td>\n",
       "      <td>3</td>\n",
       "      <td>439460.10</td>\n",
       "      <td>0</td>\n",
       "      <td>0</td>\n",
       "      <td>2</td>\n",
       "      <td>1</td>\n",
       "      <td>1</td>\n",
       "    </tr>\n",
       "    <tr>\n",
       "      <th>3</th>\n",
       "      <td>41</td>\n",
       "      <td>0</td>\n",
       "      <td>0</td>\n",
       "      <td>28581.93</td>\n",
       "      <td>0</td>\n",
       "      <td>1</td>\n",
       "      <td>2</td>\n",
       "      <td>1</td>\n",
       "      <td>-1</td>\n",
       "    </tr>\n",
       "    <tr>\n",
       "      <th>4</th>\n",
       "      <td>48</td>\n",
       "      <td>0</td>\n",
       "      <td>4</td>\n",
       "      <td>1104540.03</td>\n",
       "      <td>2</td>\n",
       "      <td>1</td>\n",
       "      <td>3</td>\n",
       "      <td>0</td>\n",
       "      <td>1</td>\n",
       "    </tr>\n",
       "  </tbody>\n",
       "</table>\n",
       "</div>"
      ],
      "text/plain": [
       "   Age  Gender  Income     Balance  Vintage  Transaction_Status  \\\n",
       "0   50       1       4  1008636.39        2                   1   \n",
       "1   36       0       2   341460.72        2                   0   \n",
       "2   25       1       3   439460.10        0                   0   \n",
       "3   41       0       0    28581.93        0                   1   \n",
       "4   48       0       4  1104540.03        2                   1   \n",
       "\n",
       "   Product_Holdings  Credit_Card  Credit_Category  \n",
       "0                 2            1                0  \n",
       "1                 2            1                0  \n",
       "2                 2            1                1  \n",
       "3                 2            1               -1  \n",
       "4                 3            0                1  "
      ]
     },
     "execution_count": 59,
     "metadata": {},
     "output_type": "execute_result"
    }
   ],
   "source": [
    "test.head()"
   ]
  },
  {
   "cell_type": "code",
   "execution_count": 17,
   "metadata": {},
   "outputs": [],
   "source": [
    "test_pred=rfc1.predict(test_data.drop('ID',axis=1))\n",
    "test_pred_df=pd.DataFrame(test_pred,columns=['Is_Churn'])\n",
    "df_out = pd.concat([test_pred_df, test['ID']], axis=1)"
   ]
  },
  {
   "cell_type": "code",
   "execution_count": 24,
   "metadata": {},
   "outputs": [
    {
     "data": {
      "text/html": [
       "<div>\n",
       "<style scoped>\n",
       "    .dataframe tbody tr th:only-of-type {\n",
       "        vertical-align: middle;\n",
       "    }\n",
       "\n",
       "    .dataframe tbody tr th {\n",
       "        vertical-align: top;\n",
       "    }\n",
       "\n",
       "    .dataframe thead th {\n",
       "        text-align: right;\n",
       "    }\n",
       "</style>\n",
       "<table border=\"1\" class=\"dataframe\">\n",
       "  <thead>\n",
       "    <tr style=\"text-align: right;\">\n",
       "      <th></th>\n",
       "      <th>Is_Churn</th>\n",
       "      <th>ID</th>\n",
       "    </tr>\n",
       "  </thead>\n",
       "  <tbody>\n",
       "    <tr>\n",
       "      <th>0</th>\n",
       "      <td>0</td>\n",
       "      <td>55480787</td>\n",
       "    </tr>\n",
       "    <tr>\n",
       "      <th>1</th>\n",
       "      <td>0</td>\n",
       "      <td>9aededf2</td>\n",
       "    </tr>\n",
       "    <tr>\n",
       "      <th>2</th>\n",
       "      <td>0</td>\n",
       "      <td>a5034a09</td>\n",
       "    </tr>\n",
       "    <tr>\n",
       "      <th>3</th>\n",
       "      <td>0</td>\n",
       "      <td>b3256702</td>\n",
       "    </tr>\n",
       "    <tr>\n",
       "      <th>4</th>\n",
       "      <td>0</td>\n",
       "      <td>dc28adb5</td>\n",
       "    </tr>\n",
       "  </tbody>\n",
       "</table>\n",
       "</div>"
      ],
      "text/plain": [
       "   Is_Churn        ID\n",
       "0         0  55480787\n",
       "1         0  9aededf2\n",
       "2         0  a5034a09\n",
       "3         0  b3256702\n",
       "4         0  dc28adb5"
      ]
     },
     "execution_count": 24,
     "metadata": {},
     "output_type": "execute_result"
    }
   ],
   "source": [
    "df_out.head()"
   ]
  },
  {
   "cell_type": "code",
   "execution_count": 45,
   "metadata": {},
   "outputs": [],
   "source": [
    "df_out.to_csv('submission.csv')"
   ]
  },
  {
   "cell_type": "code",
   "execution_count": null,
   "metadata": {},
   "outputs": [],
   "source": []
  },
  {
   "cell_type": "code",
   "execution_count": 76,
   "metadata": {},
   "outputs": [],
   "source": [
    "import lightgbm as lgb \n",
    "train_data=lgb.Dataset(X_train,label=y_train)\n",
    "param_algo = {\n",
    "                'task': 'train',\n",
    "                'boosting_type': 'gbdt',\n",
    "                'is_unbalance' : True,\n",
    "            }\n",
    "num_round=50\n",
    "lgbm2=lgb.train(param_algo,train_data,num_round)"
   ]
  },
  {
   "cell_type": "code",
   "execution_count": 77,
   "metadata": {},
   "outputs": [
    {
     "name": "stdout",
     "output_type": "stream",
     "text": [
      "[0.24382179 0.25347351 0.09344498 ... 0.23287188 0.12529871 0.1654365 ]\n",
      "roc auc score 0.6041146149181322\n"
     ]
    }
   ],
   "source": [
    "pred = lgbm2.predict(X_test)\n",
    "from sklearn.metrics import roc_auc_score\n",
    "print(pred)\n",
    "print(\"roc auc score\",roc_auc_score(y_test,pred))"
   ]
  },
  {
   "cell_type": "code",
   "execution_count": 78,
   "metadata": {},
   "outputs": [],
   "source": [
    "lgbm_pred=[]\n",
    "for i in pred:\n",
    "    if i <0.3:\n",
    "        lgbm_pred.append(1)\n",
    "    else:\n",
    "        lgbm_pred.append(0)"
   ]
  },
  {
   "cell_type": "code",
   "execution_count": 81,
   "metadata": {},
   "outputs": [
    {
     "name": "stdout",
     "output_type": "stream",
     "text": [
      "recall 0.3205051112447384\n",
      "precision 0.5724566013444248\n"
     ]
    }
   ],
   "source": [
    "from sklearn.metrics import recall_score\n",
    "from sklearn.metrics import precision_score\n",
    "print(\"recall\",recall_score(y_test,lgbm_pred,average='weighted'))\n",
    "print(\"precision\",precision_score(y_test,lgbm_pred,average='weighted'))"
   ]
  },
  {
   "cell_type": "code",
   "execution_count": 72,
   "metadata": {},
   "outputs": [
    {
     "data": {
      "text/plain": [
       "[10, 19, 28, 37, 46, 55, 64, 73, 82, 91, 100]"
      ]
     },
     "execution_count": 72,
     "metadata": {},
     "output_type": "execute_result"
    }
   ],
   "source": [
    "[int(x) for x in np.linspace(start=10,stop=100,num=11)]"
   ]
  },
  {
   "cell_type": "markdown",
   "metadata": {},
   "source": [
    "### Randomized Search CV"
   ]
  },
  {
   "cell_type": "code",
   "execution_count": 71,
   "metadata": {},
   "outputs": [
    {
     "name": "stdout",
     "output_type": "stream",
     "text": [
      "Fitting 3 folds for each of 10 candidates, totalling 30 fits\n",
      "[CV] n_estimators=5200, min_samples_split=2, min_samples_leaf=1, max_features=auto, max_depth=91 \n"
     ]
    },
    {
     "name": "stderr",
     "output_type": "stream",
     "text": [
      "[Parallel(n_jobs=1)]: Using backend SequentialBackend with 1 concurrent workers.\n"
     ]
    },
    {
     "name": "stdout",
     "output_type": "stream",
     "text": [
      "[CV]  n_estimators=5200, min_samples_split=2, min_samples_leaf=1, max_features=auto, max_depth=91, total=  44.6s\n",
      "[CV] n_estimators=5200, min_samples_split=2, min_samples_leaf=1, max_features=auto, max_depth=91 \n"
     ]
    },
    {
     "name": "stderr",
     "output_type": "stream",
     "text": [
      "[Parallel(n_jobs=1)]: Done   1 out of   1 | elapsed:   44.5s remaining:    0.0s\n"
     ]
    },
    {
     "name": "stdout",
     "output_type": "stream",
     "text": [
      "[CV]  n_estimators=5200, min_samples_split=2, min_samples_leaf=1, max_features=auto, max_depth=91, total=  43.7s\n",
      "[CV] n_estimators=5200, min_samples_split=2, min_samples_leaf=1, max_features=auto, max_depth=91 \n",
      "[CV]  n_estimators=5200, min_samples_split=2, min_samples_leaf=1, max_features=auto, max_depth=91, total=  47.0s\n",
      "[CV] n_estimators=7300, min_samples_split=10, min_samples_leaf=5, max_features=sqrt, max_depth=91 \n",
      "[CV]  n_estimators=7300, min_samples_split=10, min_samples_leaf=5, max_features=sqrt, max_depth=91, total=  50.5s\n",
      "[CV] n_estimators=7300, min_samples_split=10, min_samples_leaf=5, max_features=sqrt, max_depth=91 \n",
      "[CV]  n_estimators=7300, min_samples_split=10, min_samples_leaf=5, max_features=sqrt, max_depth=91, total=  49.0s\n",
      "[CV] n_estimators=7300, min_samples_split=10, min_samples_leaf=5, max_features=sqrt, max_depth=91 \n",
      "[CV]  n_estimators=7300, min_samples_split=10, min_samples_leaf=5, max_features=sqrt, max_depth=91, total=  50.0s\n",
      "[CV] n_estimators=2400, min_samples_split=10, min_samples_leaf=5, max_features=auto, max_depth=28 \n",
      "[CV]  n_estimators=2400, min_samples_split=10, min_samples_leaf=5, max_features=auto, max_depth=28, total=  17.2s\n",
      "[CV] n_estimators=2400, min_samples_split=10, min_samples_leaf=5, max_features=auto, max_depth=28 \n",
      "[CV]  n_estimators=2400, min_samples_split=10, min_samples_leaf=5, max_features=auto, max_depth=28, total=  17.2s\n",
      "[CV] n_estimators=2400, min_samples_split=10, min_samples_leaf=5, max_features=auto, max_depth=28 \n",
      "[CV]  n_estimators=2400, min_samples_split=10, min_samples_leaf=5, max_features=auto, max_depth=28, total=  17.8s\n",
      "[CV] n_estimators=5900, min_samples_split=5, min_samples_leaf=2, max_features=sqrt, max_depth=37 \n",
      "[CV]  n_estimators=5900, min_samples_split=5, min_samples_leaf=2, max_features=sqrt, max_depth=37, total=  53.6s\n",
      "[CV] n_estimators=5900, min_samples_split=5, min_samples_leaf=2, max_features=sqrt, max_depth=37 \n",
      "[CV]  n_estimators=5900, min_samples_split=5, min_samples_leaf=2, max_features=sqrt, max_depth=37, total=  45.9s\n",
      "[CV] n_estimators=5900, min_samples_split=5, min_samples_leaf=2, max_features=sqrt, max_depth=37 \n",
      "[CV]  n_estimators=5900, min_samples_split=5, min_samples_leaf=2, max_features=sqrt, max_depth=37, total= 1.1min\n",
      "[CV] n_estimators=6600, min_samples_split=10, min_samples_leaf=2, max_features=auto, max_depth=37 \n",
      "[CV]  n_estimators=6600, min_samples_split=10, min_samples_leaf=2, max_features=auto, max_depth=37, total= 1.6min\n",
      "[CV] n_estimators=6600, min_samples_split=10, min_samples_leaf=2, max_features=auto, max_depth=37 \n",
      "[CV]  n_estimators=6600, min_samples_split=10, min_samples_leaf=2, max_features=auto, max_depth=37, total= 1.2min\n",
      "[CV] n_estimators=6600, min_samples_split=10, min_samples_leaf=2, max_features=auto, max_depth=37 \n",
      "[CV]  n_estimators=6600, min_samples_split=10, min_samples_leaf=2, max_features=auto, max_depth=37, total=  48.4s\n",
      "[CV] n_estimators=5200, min_samples_split=15, min_samples_leaf=1, max_features=auto, max_depth=37 \n",
      "[CV]  n_estimators=5200, min_samples_split=15, min_samples_leaf=1, max_features=auto, max_depth=37, total=  35.0s\n",
      "[CV] n_estimators=5200, min_samples_split=15, min_samples_leaf=1, max_features=auto, max_depth=37 \n",
      "[CV]  n_estimators=5200, min_samples_split=15, min_samples_leaf=1, max_features=auto, max_depth=37, total=  41.0s\n",
      "[CV] n_estimators=5200, min_samples_split=15, min_samples_leaf=1, max_features=auto, max_depth=37 \n",
      "[CV]  n_estimators=5200, min_samples_split=15, min_samples_leaf=1, max_features=auto, max_depth=37, total=  36.5s\n",
      "[CV] n_estimators=8000, min_samples_split=10, min_samples_leaf=2, max_features=sqrt, max_depth=100 \n",
      "[CV]  n_estimators=8000, min_samples_split=10, min_samples_leaf=2, max_features=sqrt, max_depth=100, total= 1.0min\n",
      "[CV] n_estimators=8000, min_samples_split=10, min_samples_leaf=2, max_features=sqrt, max_depth=100 \n",
      "[CV]  n_estimators=8000, min_samples_split=10, min_samples_leaf=2, max_features=sqrt, max_depth=100, total= 1.0min\n",
      "[CV] n_estimators=8000, min_samples_split=10, min_samples_leaf=2, max_features=sqrt, max_depth=100 \n",
      "[CV]  n_estimators=8000, min_samples_split=10, min_samples_leaf=2, max_features=sqrt, max_depth=100, total= 1.0min\n",
      "[CV] n_estimators=1700, min_samples_split=5, min_samples_leaf=3, max_features=sqrt, max_depth=82 \n",
      "[CV]  n_estimators=1700, min_samples_split=5, min_samples_leaf=3, max_features=sqrt, max_depth=82, total=  13.5s\n",
      "[CV] n_estimators=1700, min_samples_split=5, min_samples_leaf=3, max_features=sqrt, max_depth=82 \n",
      "[CV]  n_estimators=1700, min_samples_split=5, min_samples_leaf=3, max_features=sqrt, max_depth=82, total=  13.5s\n",
      "[CV] n_estimators=1700, min_samples_split=5, min_samples_leaf=3, max_features=sqrt, max_depth=82 \n",
      "[CV]  n_estimators=1700, min_samples_split=5, min_samples_leaf=3, max_features=sqrt, max_depth=82, total=  13.5s\n",
      "[CV] n_estimators=8000, min_samples_split=2, min_samples_leaf=2, max_features=sqrt, max_depth=46 \n",
      "[CV]  n_estimators=8000, min_samples_split=2, min_samples_leaf=2, max_features=sqrt, max_depth=46, total= 2.3min\n",
      "[CV] n_estimators=8000, min_samples_split=2, min_samples_leaf=2, max_features=sqrt, max_depth=46 \n",
      "[CV]  n_estimators=8000, min_samples_split=2, min_samples_leaf=2, max_features=sqrt, max_depth=46, total= 1.9min\n",
      "[CV] n_estimators=8000, min_samples_split=2, min_samples_leaf=2, max_features=sqrt, max_depth=46 \n",
      "[CV]  n_estimators=8000, min_samples_split=2, min_samples_leaf=2, max_features=sqrt, max_depth=46, total= 2.3min\n",
      "[CV] n_estimators=2400, min_samples_split=5, min_samples_leaf=2, max_features=auto, max_depth=64 \n",
      "[CV]  n_estimators=2400, min_samples_split=5, min_samples_leaf=2, max_features=auto, max_depth=64, total=  20.7s\n",
      "[CV] n_estimators=2400, min_samples_split=5, min_samples_leaf=2, max_features=auto, max_depth=64 \n",
      "[CV]  n_estimators=2400, min_samples_split=5, min_samples_leaf=2, max_features=auto, max_depth=64, total=  22.8s\n",
      "[CV] n_estimators=2400, min_samples_split=5, min_samples_leaf=2, max_features=auto, max_depth=64 \n",
      "[CV]  n_estimators=2400, min_samples_split=5, min_samples_leaf=2, max_features=auto, max_depth=64, total=  21.9s\n"
     ]
    },
    {
     "name": "stderr",
     "output_type": "stream",
     "text": [
      "[Parallel(n_jobs=1)]: Done  30 out of  30 | elapsed: 25.7min finished\n"
     ]
    },
    {
     "name": "stdout",
     "output_type": "stream",
     "text": [
      "best parameters RandomForestClassifier(bootstrap=True, ccp_alpha=0.0, class_weight=None,\n",
      "                       criterion='gini', max_depth=37, max_features='auto',\n",
      "                       max_leaf_nodes=None, max_samples=None,\n",
      "                       min_impurity_decrease=0.0, min_impurity_split=None,\n",
      "                       min_samples_leaf=1, min_samples_split=15,\n",
      "                       min_weight_fraction_leaf=0.0, n_estimators=5200,\n",
      "                       n_jobs=None, oob_score=False, random_state=None,\n",
      "                       verbose=0, warm_start=False)\n",
      "0.7534576067348165\n",
      "              precision    recall  f1-score   support\n",
      "\n",
      "           0       0.76      0.98      0.86      1261\n",
      "           1       0.42      0.05      0.10       402\n",
      "\n",
      "    accuracy                           0.75      1663\n",
      "   macro avg       0.59      0.52      0.48      1663\n",
      "weighted avg       0.68      0.75      0.67      1663\n",
      "\n"
     ]
    }
   ],
   "source": [
    "rf_c=RandomForestClassifier()\n",
    "param_grid={'n_estimators':[int(x) for x in np.linspace(start=1000,stop=8000,num=11)],\n",
    "            'max_features':['auto','sqrt'],\n",
    "            'max_depth':[int(x) for x in np.linspace(start=10,stop=100,num=11)],\n",
    "            'min_samples_leaf':[1,2,3,5],\n",
    "            'min_samples_split':[2,5,10,15]}\n",
    "random_cv=RandomizedSearchCV(rf_c,param_grid,cv=3,verbose=2,random_state=42)\n",
    "random_cv.fit(X_train,y_train)\n",
    "best_random=random_cv.best_estimator_\n",
    "print(\"best parameters\",best_random)\n",
    "prediction_cv=best_random.predict(X_test)\n",
    "print(accuracy_score(y_test,prediction_cv))\n",
    "print(classification_report(y_test,prediction_cv))"
   ]
  },
  {
   "cell_type": "code",
   "execution_count": 73,
   "metadata": {},
   "outputs": [],
   "source": [
    "# best parameters RandomForestClassifier(bootstrap=True, ccp_alpha=0.0, class_weight=None,\n",
    "#                        criterion='gini', max_depth=37, max_features='auto',\n",
    "#                        max_leaf_nodes=None, max_samples=None,\n",
    "#                        min_impurity_decrease=0.0, min_impurity_split=None,\n",
    "#                        min_samples_leaf=1, min_samples_split=15,\n",
    "#                        min_weight_fraction_leaf=0.0, n_estimators=5200,\n",
    "#                        n_jobs=None, oob_score=False, random_state=None,\n",
    "#                        verbose=0, warm_start=False)"
   ]
  },
  {
   "cell_type": "code",
   "execution_count": 74,
   "metadata": {},
   "outputs": [
    {
     "name": "stdout",
     "output_type": "stream",
     "text": [
      "roc auc score 0.6336122717104407\n"
     ]
    }
   ],
   "source": [
    "y_pred_prob=best_random.predict_proba(X_test)\n",
    "print(\"roc auc score\",roc_auc_score(y_test,y_pred_prob[:,1]))"
   ]
  },
  {
   "cell_type": "code",
   "execution_count": 75,
   "metadata": {},
   "outputs": [
    {
     "name": "stdout",
     "output_type": "stream",
     "text": [
      "0.817926609183878\n",
      "              precision    recall  f1-score   support\n",
      "\n",
      "           0       0.81      1.00      0.89      3852\n",
      "           1       0.97      0.21      0.34      1135\n",
      "\n",
      "    accuracy                           0.82      4987\n",
      "   macro avg       0.89      0.60      0.62      4987\n",
      "weighted avg       0.85      0.82      0.77      4987\n",
      "\n"
     ]
    }
   ],
   "source": [
    "prediction_cv_trn=best_random.predict(X_train)\n",
    "print(accuracy_score(y_train,prediction_cv_trn))\n",
    "print(classification_report(y_train,prediction_cv_trn))"
   ]
  },
  {
   "cell_type": "code",
   "execution_count": 78,
   "metadata": {},
   "outputs": [
    {
     "data": {
      "text/plain": [
       "(array([0, 1], dtype=int64), array([1611,   52], dtype=int64))"
      ]
     },
     "execution_count": 78,
     "metadata": {},
     "output_type": "execute_result"
    }
   ],
   "source": [
    "np.unique(prediction_cv,return_counts=True)"
   ]
  },
  {
   "cell_type": "code",
   "execution_count": 79,
   "metadata": {},
   "outputs": [],
   "source": [
    "prediction_cv_test=best_random.predict(test_data.drop('ID',axis=1))"
   ]
  },
  {
   "cell_type": "code",
   "execution_count": 80,
   "metadata": {},
   "outputs": [
    {
     "data": {
      "text/plain": [
       "(array([0, 1], dtype=int64), array([2785,   66], dtype=int64))"
      ]
     },
     "execution_count": 80,
     "metadata": {},
     "output_type": "execute_result"
    }
   ],
   "source": [
    "np.unique(prediction_cv_test,return_counts=True)"
   ]
  },
  {
   "cell_type": "markdown",
   "metadata": {},
   "source": [
    "### GridSearch CV"
   ]
  },
  {
   "cell_type": "code",
   "execution_count": null,
   "metadata": {},
   "outputs": [],
   "source": [
    "model_rfc=RandomForestClassifier(n_jobs=-1)\n",
    "parameters = {'n_estimators':[5200],'max_depth':[20,40],'min_samples_leaf':[20,40,60,80]}\n",
    "model_rfc_grid = GridSearchCV(model_rfc, parameters,cv=5,verbose=1,n_jobs=-1,scoring='f1').fit(X_train4,y_train4)\n",
    "print(model_rfc_grid.best_params_)"
   ]
  },
  {
   "cell_type": "markdown",
   "metadata": {},
   "source": [
    "# Feature Engineering"
   ]
  },
  {
   "cell_type": "code",
   "execution_count": 14,
   "metadata": {},
   "outputs": [
    {
     "data": {
      "text/html": [
       "<div>\n",
       "<style scoped>\n",
       "    .dataframe tbody tr th:only-of-type {\n",
       "        vertical-align: middle;\n",
       "    }\n",
       "\n",
       "    .dataframe tbody tr th {\n",
       "        vertical-align: top;\n",
       "    }\n",
       "\n",
       "    .dataframe thead th {\n",
       "        text-align: right;\n",
       "    }\n",
       "</style>\n",
       "<table border=\"1\" class=\"dataframe\">\n",
       "  <thead>\n",
       "    <tr style=\"text-align: right;\">\n",
       "      <th></th>\n",
       "      <th>ID</th>\n",
       "      <th>Age</th>\n",
       "      <th>Gender</th>\n",
       "      <th>Income</th>\n",
       "      <th>Balance</th>\n",
       "      <th>Vintage</th>\n",
       "      <th>Transaction_Status</th>\n",
       "      <th>Product_Holdings</th>\n",
       "      <th>Credit_Card</th>\n",
       "      <th>Credit_Category</th>\n",
       "      <th>Is_Churn</th>\n",
       "      <th>inc_bal_rat</th>\n",
       "      <th>start_age</th>\n",
       "      <th>age_bal_ratio</th>\n",
       "      <th>networth_inbank</th>\n",
       "    </tr>\n",
       "  </thead>\n",
       "  <tbody>\n",
       "    <tr>\n",
       "      <td>0</td>\n",
       "      <td>84e2fcc9</td>\n",
       "      <td>36</td>\n",
       "      <td>1</td>\n",
       "      <td>2</td>\n",
       "      <td>563266.44</td>\n",
       "      <td>4</td>\n",
       "      <td>0</td>\n",
       "      <td>1</td>\n",
       "      <td>0</td>\n",
       "      <td>0</td>\n",
       "      <td>1</td>\n",
       "      <td>0.751022</td>\n",
       "      <td>32</td>\n",
       "      <td>15646.290000</td>\n",
       "      <td>2253065.76</td>\n",
       "    </tr>\n",
       "    <tr>\n",
       "      <td>1</td>\n",
       "      <td>57fea15e</td>\n",
       "      <td>53</td>\n",
       "      <td>1</td>\n",
       "      <td>1</td>\n",
       "      <td>875572.11</td>\n",
       "      <td>2</td>\n",
       "      <td>1</td>\n",
       "      <td>1</td>\n",
       "      <td>1</td>\n",
       "      <td>-1</td>\n",
       "      <td>0</td>\n",
       "      <td>3.502288</td>\n",
       "      <td>51</td>\n",
       "      <td>16520.228491</td>\n",
       "      <td>1751144.22</td>\n",
       "    </tr>\n",
       "    <tr>\n",
       "      <td>2</td>\n",
       "      <td>8df34ef3</td>\n",
       "      <td>35</td>\n",
       "      <td>1</td>\n",
       "      <td>4</td>\n",
       "      <td>701607.06</td>\n",
       "      <td>2</td>\n",
       "      <td>1</td>\n",
       "      <td>2</td>\n",
       "      <td>0</td>\n",
       "      <td>-1</td>\n",
       "      <td>0</td>\n",
       "      <td>0.400918</td>\n",
       "      <td>33</td>\n",
       "      <td>20045.916000</td>\n",
       "      <td>1403214.12</td>\n",
       "    </tr>\n",
       "    <tr>\n",
       "      <td>3</td>\n",
       "      <td>c5c0788b</td>\n",
       "      <td>43</td>\n",
       "      <td>1</td>\n",
       "      <td>4</td>\n",
       "      <td>1393922.16</td>\n",
       "      <td>0</td>\n",
       "      <td>1</td>\n",
       "      <td>2</td>\n",
       "      <td>1</td>\n",
       "      <td>-1</td>\n",
       "      <td>1</td>\n",
       "      <td>0.796527</td>\n",
       "      <td>43</td>\n",
       "      <td>32416.794419</td>\n",
       "      <td>0.00</td>\n",
       "    </tr>\n",
       "    <tr>\n",
       "      <td>4</td>\n",
       "      <td>951d69c4</td>\n",
       "      <td>39</td>\n",
       "      <td>1</td>\n",
       "      <td>4</td>\n",
       "      <td>893146.23</td>\n",
       "      <td>1</td>\n",
       "      <td>1</td>\n",
       "      <td>1</td>\n",
       "      <td>1</td>\n",
       "      <td>1</td>\n",
       "      <td>1</td>\n",
       "      <td>0.510369</td>\n",
       "      <td>38</td>\n",
       "      <td>22901.185385</td>\n",
       "      <td>893146.23</td>\n",
       "    </tr>\n",
       "  </tbody>\n",
       "</table>\n",
       "</div>"
      ],
      "text/plain": [
       "         ID  Age  Gender  Income     Balance  Vintage  Transaction_Status  \\\n",
       "0  84e2fcc9   36       1       2   563266.44        4                   0   \n",
       "1  57fea15e   53       1       1   875572.11        2                   1   \n",
       "2  8df34ef3   35       1       4   701607.06        2                   1   \n",
       "3  c5c0788b   43       1       4  1393922.16        0                   1   \n",
       "4  951d69c4   39       1       4   893146.23        1                   1   \n",
       "\n",
       "   Product_Holdings  Credit_Card  Credit_Category  Is_Churn  inc_bal_rat  \\\n",
       "0                 1            0                0         1     0.751022   \n",
       "1                 1            1               -1         0     3.502288   \n",
       "2                 2            0               -1         0     0.400918   \n",
       "3                 2            1               -1         1     0.796527   \n",
       "4                 1            1                1         1     0.510369   \n",
       "\n",
       "   start_age  age_bal_ratio  networth_inbank  \n",
       "0         32   15646.290000       2253065.76  \n",
       "1         51   16520.228491       1751144.22  \n",
       "2         33   20045.916000       1403214.12  \n",
       "3         43   32416.794419             0.00  \n",
       "4         38   22901.185385        893146.23  "
      ]
     },
     "execution_count": 14,
     "metadata": {},
     "output_type": "execute_result"
    }
   ],
   "source": [
    "data['networth_inbank']=data['Vintage']*data['Balance']\n",
    "data.head()"
   ]
  },
  {
   "cell_type": "code",
   "execution_count": 13,
   "metadata": {},
   "outputs": [
    {
     "data": {
      "text/html": [
       "<div>\n",
       "<style scoped>\n",
       "    .dataframe tbody tr th:only-of-type {\n",
       "        vertical-align: middle;\n",
       "    }\n",
       "\n",
       "    .dataframe tbody tr th {\n",
       "        vertical-align: top;\n",
       "    }\n",
       "\n",
       "    .dataframe thead th {\n",
       "        text-align: right;\n",
       "    }\n",
       "</style>\n",
       "<table border=\"1\" class=\"dataframe\">\n",
       "  <thead>\n",
       "    <tr style=\"text-align: right;\">\n",
       "      <th></th>\n",
       "      <th>ID</th>\n",
       "      <th>Age</th>\n",
       "      <th>Gender</th>\n",
       "      <th>Income</th>\n",
       "      <th>Balance</th>\n",
       "      <th>Vintage</th>\n",
       "      <th>Transaction_Status</th>\n",
       "      <th>Product_Holdings</th>\n",
       "      <th>Credit_Card</th>\n",
       "      <th>Credit_Category</th>\n",
       "      <th>Is_Churn</th>\n",
       "      <th>inc_bal_rat</th>\n",
       "      <th>start_age</th>\n",
       "      <th>age_bal_ratio</th>\n",
       "    </tr>\n",
       "  </thead>\n",
       "  <tbody>\n",
       "    <tr>\n",
       "      <td>0</td>\n",
       "      <td>84e2fcc9</td>\n",
       "      <td>36</td>\n",
       "      <td>1</td>\n",
       "      <td>2</td>\n",
       "      <td>563266.44</td>\n",
       "      <td>4</td>\n",
       "      <td>0</td>\n",
       "      <td>1</td>\n",
       "      <td>0</td>\n",
       "      <td>0</td>\n",
       "      <td>1</td>\n",
       "      <td>0.751022</td>\n",
       "      <td>32</td>\n",
       "      <td>15646.290000</td>\n",
       "    </tr>\n",
       "    <tr>\n",
       "      <td>1</td>\n",
       "      <td>57fea15e</td>\n",
       "      <td>53</td>\n",
       "      <td>1</td>\n",
       "      <td>1</td>\n",
       "      <td>875572.11</td>\n",
       "      <td>2</td>\n",
       "      <td>1</td>\n",
       "      <td>1</td>\n",
       "      <td>1</td>\n",
       "      <td>-1</td>\n",
       "      <td>0</td>\n",
       "      <td>3.502288</td>\n",
       "      <td>51</td>\n",
       "      <td>16520.228491</td>\n",
       "    </tr>\n",
       "    <tr>\n",
       "      <td>2</td>\n",
       "      <td>8df34ef3</td>\n",
       "      <td>35</td>\n",
       "      <td>1</td>\n",
       "      <td>4</td>\n",
       "      <td>701607.06</td>\n",
       "      <td>2</td>\n",
       "      <td>1</td>\n",
       "      <td>2</td>\n",
       "      <td>0</td>\n",
       "      <td>-1</td>\n",
       "      <td>0</td>\n",
       "      <td>0.400918</td>\n",
       "      <td>33</td>\n",
       "      <td>20045.916000</td>\n",
       "    </tr>\n",
       "    <tr>\n",
       "      <td>3</td>\n",
       "      <td>c5c0788b</td>\n",
       "      <td>43</td>\n",
       "      <td>1</td>\n",
       "      <td>4</td>\n",
       "      <td>1393922.16</td>\n",
       "      <td>0</td>\n",
       "      <td>1</td>\n",
       "      <td>2</td>\n",
       "      <td>1</td>\n",
       "      <td>-1</td>\n",
       "      <td>1</td>\n",
       "      <td>0.796527</td>\n",
       "      <td>43</td>\n",
       "      <td>32416.794419</td>\n",
       "    </tr>\n",
       "    <tr>\n",
       "      <td>4</td>\n",
       "      <td>951d69c4</td>\n",
       "      <td>39</td>\n",
       "      <td>1</td>\n",
       "      <td>4</td>\n",
       "      <td>893146.23</td>\n",
       "      <td>1</td>\n",
       "      <td>1</td>\n",
       "      <td>1</td>\n",
       "      <td>1</td>\n",
       "      <td>1</td>\n",
       "      <td>1</td>\n",
       "      <td>0.510369</td>\n",
       "      <td>38</td>\n",
       "      <td>22901.185385</td>\n",
       "    </tr>\n",
       "  </tbody>\n",
       "</table>\n",
       "</div>"
      ],
      "text/plain": [
       "         ID  Age  Gender  Income     Balance  Vintage  Transaction_Status  \\\n",
       "0  84e2fcc9   36       1       2   563266.44        4                   0   \n",
       "1  57fea15e   53       1       1   875572.11        2                   1   \n",
       "2  8df34ef3   35       1       4   701607.06        2                   1   \n",
       "3  c5c0788b   43       1       4  1393922.16        0                   1   \n",
       "4  951d69c4   39       1       4   893146.23        1                   1   \n",
       "\n",
       "   Product_Holdings  Credit_Card  Credit_Category  Is_Churn  inc_bal_rat  \\\n",
       "0                 1            0                0         1     0.751022   \n",
       "1                 1            1               -1         0     3.502288   \n",
       "2                 2            0               -1         0     0.400918   \n",
       "3                 2            1               -1         1     0.796527   \n",
       "4                 1            1                1         1     0.510369   \n",
       "\n",
       "   start_age  age_bal_ratio  \n",
       "0         32   15646.290000  \n",
       "1         51   16520.228491  \n",
       "2         33   20045.916000  \n",
       "3         43   32416.794419  \n",
       "4         38   22901.185385  "
      ]
     },
     "execution_count": 13,
     "metadata": {},
     "output_type": "execute_result"
    }
   ],
   "source": [
    "data['start_age']=data['Age']-data['Vintage']\n",
    "data['age_bal_ratio']=data['Balance']/data['Age']\n",
    "data.head()"
   ]
  },
  {
   "cell_type": "code",
   "execution_count": 12,
   "metadata": {},
   "outputs": [
    {
     "data": {
      "text/html": [
       "<div>\n",
       "<style scoped>\n",
       "    .dataframe tbody tr th:only-of-type {\n",
       "        vertical-align: middle;\n",
       "    }\n",
       "\n",
       "    .dataframe tbody tr th {\n",
       "        vertical-align: top;\n",
       "    }\n",
       "\n",
       "    .dataframe thead th {\n",
       "        text-align: right;\n",
       "    }\n",
       "</style>\n",
       "<table border=\"1\" class=\"dataframe\">\n",
       "  <thead>\n",
       "    <tr style=\"text-align: right;\">\n",
       "      <th></th>\n",
       "      <th>ID</th>\n",
       "      <th>Age</th>\n",
       "      <th>Gender</th>\n",
       "      <th>Income</th>\n",
       "      <th>Balance</th>\n",
       "      <th>Vintage</th>\n",
       "      <th>Transaction_Status</th>\n",
       "      <th>Product_Holdings</th>\n",
       "      <th>Credit_Card</th>\n",
       "      <th>Credit_Category</th>\n",
       "      <th>Is_Churn</th>\n",
       "      <th>inc_bal_rat</th>\n",
       "    </tr>\n",
       "  </thead>\n",
       "  <tbody>\n",
       "    <tr>\n",
       "      <td>0</td>\n",
       "      <td>84e2fcc9</td>\n",
       "      <td>36</td>\n",
       "      <td>1</td>\n",
       "      <td>2</td>\n",
       "      <td>563266.44</td>\n",
       "      <td>4</td>\n",
       "      <td>0</td>\n",
       "      <td>1</td>\n",
       "      <td>0</td>\n",
       "      <td>0</td>\n",
       "      <td>1</td>\n",
       "      <td>0.751022</td>\n",
       "    </tr>\n",
       "    <tr>\n",
       "      <td>1</td>\n",
       "      <td>57fea15e</td>\n",
       "      <td>53</td>\n",
       "      <td>1</td>\n",
       "      <td>1</td>\n",
       "      <td>875572.11</td>\n",
       "      <td>2</td>\n",
       "      <td>1</td>\n",
       "      <td>1</td>\n",
       "      <td>1</td>\n",
       "      <td>-1</td>\n",
       "      <td>0</td>\n",
       "      <td>3.502288</td>\n",
       "    </tr>\n",
       "    <tr>\n",
       "      <td>2</td>\n",
       "      <td>8df34ef3</td>\n",
       "      <td>35</td>\n",
       "      <td>1</td>\n",
       "      <td>4</td>\n",
       "      <td>701607.06</td>\n",
       "      <td>2</td>\n",
       "      <td>1</td>\n",
       "      <td>2</td>\n",
       "      <td>0</td>\n",
       "      <td>-1</td>\n",
       "      <td>0</td>\n",
       "      <td>0.400918</td>\n",
       "    </tr>\n",
       "    <tr>\n",
       "      <td>3</td>\n",
       "      <td>c5c0788b</td>\n",
       "      <td>43</td>\n",
       "      <td>1</td>\n",
       "      <td>4</td>\n",
       "      <td>1393922.16</td>\n",
       "      <td>0</td>\n",
       "      <td>1</td>\n",
       "      <td>2</td>\n",
       "      <td>1</td>\n",
       "      <td>-1</td>\n",
       "      <td>1</td>\n",
       "      <td>0.796527</td>\n",
       "    </tr>\n",
       "    <tr>\n",
       "      <td>4</td>\n",
       "      <td>951d69c4</td>\n",
       "      <td>39</td>\n",
       "      <td>1</td>\n",
       "      <td>4</td>\n",
       "      <td>893146.23</td>\n",
       "      <td>1</td>\n",
       "      <td>1</td>\n",
       "      <td>1</td>\n",
       "      <td>1</td>\n",
       "      <td>1</td>\n",
       "      <td>1</td>\n",
       "      <td>0.510369</td>\n",
       "    </tr>\n",
       "  </tbody>\n",
       "</table>\n",
       "</div>"
      ],
      "text/plain": [
       "         ID  Age  Gender  Income     Balance  Vintage  Transaction_Status  \\\n",
       "0  84e2fcc9   36       1       2   563266.44        4                   0   \n",
       "1  57fea15e   53       1       1   875572.11        2                   1   \n",
       "2  8df34ef3   35       1       4   701607.06        2                   1   \n",
       "3  c5c0788b   43       1       4  1393922.16        0                   1   \n",
       "4  951d69c4   39       1       4   893146.23        1                   1   \n",
       "\n",
       "   Product_Holdings  Credit_Card  Credit_Category  Is_Churn  inc_bal_rat  \n",
       "0                 1            0                0         1     0.751022  \n",
       "1                 1            1               -1         0     3.502288  \n",
       "2                 2            0               -1         0     0.400918  \n",
       "3                 2            1               -1         1     0.796527  \n",
       "4                 1            1                1         1     0.510369  "
      ]
     },
     "execution_count": 12,
     "metadata": {},
     "output_type": "execute_result"
    }
   ],
   "source": [
    "def inc_bal_ratio(inc,bal):\n",
    "    if inc==1:\n",
    "        return bal/250000.0\n",
    "    if inc==2:\n",
    "        return bal/750000.0\n",
    "    if inc==3:\n",
    "        return bal/1250000.0\n",
    "    if inc==4:\n",
    "        return bal/1750000.0\n",
    "data['inc_bal_rat'] = data.apply(lambda x: inc_bal_ratio(x['Income'], x['Balance']), axis=1)\n",
    "data.head()"
   ]
  },
  {
   "cell_type": "code",
   "execution_count": 137,
   "metadata": {},
   "outputs": [
    {
     "data": {
      "text/html": [
       "<div>\n",
       "<style scoped>\n",
       "    .dataframe tbody tr th:only-of-type {\n",
       "        vertical-align: middle;\n",
       "    }\n",
       "\n",
       "    .dataframe tbody tr th {\n",
       "        vertical-align: top;\n",
       "    }\n",
       "\n",
       "    .dataframe thead th {\n",
       "        text-align: right;\n",
       "    }\n",
       "</style>\n",
       "<table border=\"1\" class=\"dataframe\">\n",
       "  <thead>\n",
       "    <tr style=\"text-align: right;\">\n",
       "      <th></th>\n",
       "      <th>ID</th>\n",
       "      <th>Age</th>\n",
       "      <th>Gender</th>\n",
       "      <th>Income</th>\n",
       "      <th>Balance</th>\n",
       "      <th>Vintage</th>\n",
       "      <th>Transaction_Status</th>\n",
       "      <th>Product_Holdings</th>\n",
       "      <th>Credit_Card</th>\n",
       "      <th>Credit_Category</th>\n",
       "      <th>Is_Churn</th>\n",
       "      <th>inc_bal_rat</th>\n",
       "      <th>networth_inbank</th>\n",
       "      <th>start_age</th>\n",
       "      <th>age_bal_ratio</th>\n",
       "    </tr>\n",
       "  </thead>\n",
       "  <tbody>\n",
       "    <tr>\n",
       "      <th>0</th>\n",
       "      <td>84e2fcc9</td>\n",
       "      <td>36</td>\n",
       "      <td>1</td>\n",
       "      <td>2</td>\n",
       "      <td>563266.44</td>\n",
       "      <td>4</td>\n",
       "      <td>0</td>\n",
       "      <td>1</td>\n",
       "      <td>0</td>\n",
       "      <td>0</td>\n",
       "      <td>1</td>\n",
       "      <td>0.751022</td>\n",
       "      <td>2253065.76</td>\n",
       "      <td>32</td>\n",
       "      <td>15646.290000</td>\n",
       "    </tr>\n",
       "    <tr>\n",
       "      <th>1</th>\n",
       "      <td>57fea15e</td>\n",
       "      <td>53</td>\n",
       "      <td>1</td>\n",
       "      <td>1</td>\n",
       "      <td>875572.11</td>\n",
       "      <td>2</td>\n",
       "      <td>1</td>\n",
       "      <td>1</td>\n",
       "      <td>1</td>\n",
       "      <td>-1</td>\n",
       "      <td>0</td>\n",
       "      <td>3.502288</td>\n",
       "      <td>1751144.22</td>\n",
       "      <td>51</td>\n",
       "      <td>16520.228491</td>\n",
       "    </tr>\n",
       "    <tr>\n",
       "      <th>2</th>\n",
       "      <td>8df34ef3</td>\n",
       "      <td>35</td>\n",
       "      <td>1</td>\n",
       "      <td>4</td>\n",
       "      <td>701607.06</td>\n",
       "      <td>2</td>\n",
       "      <td>1</td>\n",
       "      <td>2</td>\n",
       "      <td>0</td>\n",
       "      <td>-1</td>\n",
       "      <td>0</td>\n",
       "      <td>0.400918</td>\n",
       "      <td>1403214.12</td>\n",
       "      <td>33</td>\n",
       "      <td>20045.916000</td>\n",
       "    </tr>\n",
       "    <tr>\n",
       "      <th>3</th>\n",
       "      <td>c5c0788b</td>\n",
       "      <td>43</td>\n",
       "      <td>1</td>\n",
       "      <td>4</td>\n",
       "      <td>1393922.16</td>\n",
       "      <td>0</td>\n",
       "      <td>1</td>\n",
       "      <td>2</td>\n",
       "      <td>1</td>\n",
       "      <td>-1</td>\n",
       "      <td>1</td>\n",
       "      <td>0.796527</td>\n",
       "      <td>0.00</td>\n",
       "      <td>43</td>\n",
       "      <td>32416.794419</td>\n",
       "    </tr>\n",
       "    <tr>\n",
       "      <th>4</th>\n",
       "      <td>951d69c4</td>\n",
       "      <td>39</td>\n",
       "      <td>1</td>\n",
       "      <td>4</td>\n",
       "      <td>893146.23</td>\n",
       "      <td>1</td>\n",
       "      <td>1</td>\n",
       "      <td>1</td>\n",
       "      <td>1</td>\n",
       "      <td>1</td>\n",
       "      <td>1</td>\n",
       "      <td>0.510369</td>\n",
       "      <td>893146.23</td>\n",
       "      <td>38</td>\n",
       "      <td>22901.185385</td>\n",
       "    </tr>\n",
       "  </tbody>\n",
       "</table>\n",
       "</div>"
      ],
      "text/plain": [
       "         ID  Age  Gender  Income     Balance  Vintage  Transaction_Status  \\\n",
       "0  84e2fcc9   36       1       2   563266.44        4                   0   \n",
       "1  57fea15e   53       1       1   875572.11        2                   1   \n",
       "2  8df34ef3   35       1       4   701607.06        2                   1   \n",
       "3  c5c0788b   43       1       4  1393922.16        0                   1   \n",
       "4  951d69c4   39       1       4   893146.23        1                   1   \n",
       "\n",
       "   Product_Holdings  Credit_Card  Credit_Category  Is_Churn  inc_bal_rat  \\\n",
       "0                 1            0                0         1     0.751022   \n",
       "1                 1            1               -1         0     3.502288   \n",
       "2                 2            0               -1         0     0.400918   \n",
       "3                 2            1               -1         1     0.796527   \n",
       "4                 1            1                1         1     0.510369   \n",
       "\n",
       "   networth_inbank  start_age  age_bal_ratio  \n",
       "0       2253065.76         32   15646.290000  \n",
       "1       1751144.22         51   16520.228491  \n",
       "2       1403214.12         33   20045.916000  \n",
       "3             0.00         43   32416.794419  \n",
       "4        893146.23         38   22901.185385  "
      ]
     },
     "execution_count": 137,
     "metadata": {},
     "output_type": "execute_result"
    }
   ],
   "source": [
    "data.head()"
   ]
  },
  {
   "cell_type": "code",
   "execution_count": 15,
   "metadata": {},
   "outputs": [],
   "source": [
    "data['tran_cred']=data['Transaction_Status']+data['Credit_Card']"
   ]
  },
  {
   "cell_type": "code",
   "execution_count": 16,
   "metadata": {},
   "outputs": [
    {
     "data": {
      "text/html": [
       "<div>\n",
       "<style scoped>\n",
       "    .dataframe tbody tr th:only-of-type {\n",
       "        vertical-align: middle;\n",
       "    }\n",
       "\n",
       "    .dataframe tbody tr th {\n",
       "        vertical-align: top;\n",
       "    }\n",
       "\n",
       "    .dataframe thead th {\n",
       "        text-align: right;\n",
       "    }\n",
       "</style>\n",
       "<table border=\"1\" class=\"dataframe\">\n",
       "  <thead>\n",
       "    <tr style=\"text-align: right;\">\n",
       "      <th></th>\n",
       "      <th>ID</th>\n",
       "      <th>Age</th>\n",
       "      <th>Gender</th>\n",
       "      <th>Income</th>\n",
       "      <th>Balance</th>\n",
       "      <th>Vintage</th>\n",
       "      <th>Transaction_Status</th>\n",
       "      <th>Product_Holdings</th>\n",
       "      <th>Credit_Card</th>\n",
       "      <th>Credit_Category</th>\n",
       "      <th>Is_Churn</th>\n",
       "      <th>inc_bal_rat</th>\n",
       "      <th>start_age</th>\n",
       "      <th>age_bal_ratio</th>\n",
       "      <th>networth_inbank</th>\n",
       "      <th>tran_cred</th>\n",
       "      <th>bal_6m</th>\n",
       "    </tr>\n",
       "  </thead>\n",
       "  <tbody>\n",
       "    <tr>\n",
       "      <td>0</td>\n",
       "      <td>84e2fcc9</td>\n",
       "      <td>36</td>\n",
       "      <td>1</td>\n",
       "      <td>2</td>\n",
       "      <td>563266.44</td>\n",
       "      <td>4</td>\n",
       "      <td>0</td>\n",
       "      <td>1</td>\n",
       "      <td>0</td>\n",
       "      <td>0</td>\n",
       "      <td>1</td>\n",
       "      <td>0.751022</td>\n",
       "      <td>32</td>\n",
       "      <td>15646.290000</td>\n",
       "      <td>2253065.76</td>\n",
       "      <td>0</td>\n",
       "      <td>1126532.88</td>\n",
       "    </tr>\n",
       "    <tr>\n",
       "      <td>1</td>\n",
       "      <td>57fea15e</td>\n",
       "      <td>53</td>\n",
       "      <td>1</td>\n",
       "      <td>1</td>\n",
       "      <td>875572.11</td>\n",
       "      <td>2</td>\n",
       "      <td>1</td>\n",
       "      <td>1</td>\n",
       "      <td>1</td>\n",
       "      <td>-1</td>\n",
       "      <td>0</td>\n",
       "      <td>3.502288</td>\n",
       "      <td>51</td>\n",
       "      <td>16520.228491</td>\n",
       "      <td>1751144.22</td>\n",
       "      <td>2</td>\n",
       "      <td>1751144.22</td>\n",
       "    </tr>\n",
       "    <tr>\n",
       "      <td>2</td>\n",
       "      <td>8df34ef3</td>\n",
       "      <td>35</td>\n",
       "      <td>1</td>\n",
       "      <td>4</td>\n",
       "      <td>701607.06</td>\n",
       "      <td>2</td>\n",
       "      <td>1</td>\n",
       "      <td>2</td>\n",
       "      <td>0</td>\n",
       "      <td>-1</td>\n",
       "      <td>0</td>\n",
       "      <td>0.400918</td>\n",
       "      <td>33</td>\n",
       "      <td>20045.916000</td>\n",
       "      <td>1403214.12</td>\n",
       "      <td>1</td>\n",
       "      <td>1403214.12</td>\n",
       "    </tr>\n",
       "    <tr>\n",
       "      <td>3</td>\n",
       "      <td>c5c0788b</td>\n",
       "      <td>43</td>\n",
       "      <td>1</td>\n",
       "      <td>4</td>\n",
       "      <td>1393922.16</td>\n",
       "      <td>0</td>\n",
       "      <td>1</td>\n",
       "      <td>2</td>\n",
       "      <td>1</td>\n",
       "      <td>-1</td>\n",
       "      <td>1</td>\n",
       "      <td>0.796527</td>\n",
       "      <td>43</td>\n",
       "      <td>32416.794419</td>\n",
       "      <td>0.00</td>\n",
       "      <td>2</td>\n",
       "      <td>2787844.32</td>\n",
       "    </tr>\n",
       "    <tr>\n",
       "      <td>4</td>\n",
       "      <td>951d69c4</td>\n",
       "      <td>39</td>\n",
       "      <td>1</td>\n",
       "      <td>4</td>\n",
       "      <td>893146.23</td>\n",
       "      <td>1</td>\n",
       "      <td>1</td>\n",
       "      <td>1</td>\n",
       "      <td>1</td>\n",
       "      <td>1</td>\n",
       "      <td>1</td>\n",
       "      <td>0.510369</td>\n",
       "      <td>38</td>\n",
       "      <td>22901.185385</td>\n",
       "      <td>893146.23</td>\n",
       "      <td>2</td>\n",
       "      <td>1786292.46</td>\n",
       "    </tr>\n",
       "  </tbody>\n",
       "</table>\n",
       "</div>"
      ],
      "text/plain": [
       "         ID  Age  Gender  Income     Balance  Vintage  Transaction_Status  \\\n",
       "0  84e2fcc9   36       1       2   563266.44        4                   0   \n",
       "1  57fea15e   53       1       1   875572.11        2                   1   \n",
       "2  8df34ef3   35       1       4   701607.06        2                   1   \n",
       "3  c5c0788b   43       1       4  1393922.16        0                   1   \n",
       "4  951d69c4   39       1       4   893146.23        1                   1   \n",
       "\n",
       "   Product_Holdings  Credit_Card  Credit_Category  Is_Churn  inc_bal_rat  \\\n",
       "0                 1            0                0         1     0.751022   \n",
       "1                 1            1               -1         0     3.502288   \n",
       "2                 2            0               -1         0     0.400918   \n",
       "3                 2            1               -1         1     0.796527   \n",
       "4                 1            1                1         1     0.510369   \n",
       "\n",
       "   start_age  age_bal_ratio  networth_inbank  tran_cred      bal_6m  \n",
       "0         32   15646.290000       2253065.76          0  1126532.88  \n",
       "1         51   16520.228491       1751144.22          2  1751144.22  \n",
       "2         33   20045.916000       1403214.12          1  1403214.12  \n",
       "3         43   32416.794419             0.00          2  2787844.32  \n",
       "4         38   22901.185385        893146.23          2  1786292.46  "
      ]
     },
     "execution_count": 16,
     "metadata": {},
     "output_type": "execute_result"
    }
   ],
   "source": [
    "data['bal_6m']=data['Balance']*2\n",
    "data.head()"
   ]
  },
  {
   "cell_type": "markdown",
   "metadata": {},
   "source": [
    "# Modelling approaches after Feature Engineering"
   ]
  },
  {
   "cell_type": "code",
   "execution_count": 17,
   "metadata": {},
   "outputs": [],
   "source": [
    "y2=data['Is_Churn']\n",
    "X2=data.drop(['Is_Churn','ID'],axis=1)\n",
    "X_train2, X_test2, y_train2, y_test2 = train_test_split(X2,y2,test_size=.25)"
   ]
  },
  {
   "cell_type": "code",
   "execution_count": 159,
   "metadata": {},
   "outputs": [
    {
     "name": "stdout",
     "output_type": "stream",
     "text": [
      "0.6891160553217077\n",
      "              precision    recall  f1-score   support\n",
      "\n",
      "           0       0.80      0.80      0.80      1293\n",
      "           1       0.30      0.29      0.29       370\n",
      "\n",
      "    accuracy                           0.69      1663\n",
      "   macro avg       0.55      0.55      0.55      1663\n",
      "weighted avg       0.69      0.69      0.69      1663\n",
      "\n",
      "----------------------------------------------------------\n",
      "0.41551413108839447\n",
      "              precision    recall  f1-score   support\n",
      "\n",
      "           0       0.72      0.40      0.52      1293\n",
      "           1       0.18      0.47      0.26       370\n",
      "\n",
      "    accuracy                           0.42      1663\n",
      "   macro avg       0.45      0.43      0.39      1663\n",
      "weighted avg       0.60      0.42      0.46      1663\n",
      "\n",
      "roc auc score 0.5978428544553835\n"
     ]
    }
   ],
   "source": [
    "rfc_new=RandomForestClassifier( n_estimators= 5000,max_depth=40,n_jobs=-1)\n",
    "rfc_new.fit(X_train2, y_train2)\n",
    "prediction_new=rfc_new.predict(X_test2)\n",
    "pred_thrs=[]\n",
    "pred_test=rfc_new.predict_proba(X_test2)\n",
    "for i in pred_test:\n",
    "    if i[0]<0.65:\n",
    "        pred_thrs.append(1)\n",
    "    else:\n",
    "        pred_thrs.append(0)\n",
    "print(accuracy_score(y_test2,pred_thrs))\n",
    "print(classification_report(y_test2,pred_thrs))\n",
    "print(\"----------------------------------------------------------\")\n",
    "pred_thrs=[]\n",
    "for i in pred_test:\n",
    "    if i[1]<0.25:\n",
    "        pred_thrs.append(1)\n",
    "    else:\n",
    "        pred_thrs.append(0)\n",
    "print(accuracy_score(y_test2,pred_thrs))\n",
    "print(classification_report(y_test2,pred_thrs))\n",
    "y_pred_prob_new=rfc_new.predict_proba(X_test2)\n",
    "print(\"roc auc score\",roc_auc_score(y_test2,y_pred_prob_new[:,1]))"
   ]
  },
  {
   "cell_type": "code",
   "execution_count": 168,
   "metadata": {},
   "outputs": [
    {
     "name": "stdout",
     "output_type": "stream",
     "text": [
      "0.22669873722188816\n",
      "              precision    recall  f1-score   support\n",
      "\n",
      "           0       0.61      0.01      0.03      1293\n",
      "           1       0.22      0.97      0.36       370\n",
      "\n",
      "    accuracy                           0.23      1663\n",
      "   macro avg       0.42      0.49      0.19      1663\n",
      "weighted avg       0.53      0.23      0.10      1663\n",
      "\n"
     ]
    }
   ],
   "source": [
    "pred_thrs=[]\n",
    "for i in pred_test:\n",
    "    if i[1]<0.6:\n",
    "        pred_thrs.append(1)\n",
    "    else:\n",
    "        pred_thrs.append(0)\n",
    "print(accuracy_score(y_test2,pred_thrs))\n",
    "print(classification_report(y_test2,pred_thrs))"
   ]
  },
  {
   "cell_type": "code",
   "execution_count": 169,
   "metadata": {},
   "outputs": [
    {
     "data": {
      "text/plain": [
       "array([0.10226691, 0.01956822, 0.03460139, 0.11655357, 0.0426754 ,\n",
       "       0.01456395, 0.0271902 , 0.01438198, 0.03282824, 0.12305571,\n",
       "       0.11257281, 0.10047255, 0.12255975, 0.02041524, 0.11629409])"
      ]
     },
     "execution_count": 169,
     "metadata": {},
     "output_type": "execute_result"
    }
   ],
   "source": [
    "rfc_new.feature_importances_"
   ]
  },
  {
   "cell_type": "code",
   "execution_count": 150,
   "metadata": {},
   "outputs": [
    {
     "data": {
      "text/plain": [
       "Index(['Age', 'Gender', 'Income', 'Balance', 'Vintage', 'Transaction_Status',\n",
       "       'Product_Holdings', 'Credit_Card', 'Credit_Category', 'inc_bal_rat',\n",
       "       'networth_inbank', 'start_age', 'age_bal_ratio', 'tran_cred', 'bal_6m'],\n",
       "      dtype='object')"
      ]
     },
     "execution_count": 150,
     "metadata": {},
     "output_type": "execute_result"
    }
   ],
   "source": [
    "X_train2.columns"
   ]
  },
  {
   "cell_type": "code",
   "execution_count": 108,
   "metadata": {},
   "outputs": [
    {
     "name": "stdout",
     "output_type": "stream",
     "text": [
      "0.7215874924834637\n",
      "              precision    recall  f1-score   support\n",
      "\n",
      "           0       0.79      0.87      0.83      1294\n",
      "           1       0.30      0.18      0.23       369\n",
      "\n",
      "    accuracy                           0.72      1663\n",
      "   macro avg       0.54      0.53      0.53      1663\n",
      "weighted avg       0.68      0.72      0.70      1663\n",
      "\n",
      "roc auc score 0.5716188537464972\n"
     ]
    }
   ],
   "source": [
    "from sklearn.ensemble import GradientBoostingClassifier\n",
    "clf=GradientBoostingClassifier(n_estimators=5000)\n",
    "clf.fit(X_train2, y_train2)\n",
    "prediction_new=clf.predict(X_test2)\n",
    "print(accuracy_score(y_test2,prediction_new))\n",
    "print(classification_report(y_test2,prediction_new))\n",
    "y_pred_prob_new=clf.predict_proba(X_test2)\n",
    "print(\"roc auc score\",roc_auc_score(y_test2,y_pred_prob_new[:,1]))"
   ]
  },
  {
   "cell_type": "code",
   "execution_count": 131,
   "metadata": {},
   "outputs": [],
   "source": [
    "rfc_new_ful=RandomForestClassifier(random_state=42, max_features='auto', n_estimators= 5000,criterion='gini')\n",
    "rfc_new_ful.fit(X2, y2)\n",
    "prediction_new=rfc_new_ful.predict(X2)\n"
   ]
  },
  {
   "cell_type": "code",
   "execution_count": 132,
   "metadata": {},
   "outputs": [
    {
     "name": "stdout",
     "output_type": "stream",
     "text": [
      "1.0\n",
      "              precision    recall  f1-score   support\n",
      "\n",
      "           0       1.00      1.00      1.00      5113\n",
      "           1       1.00      1.00      1.00      1537\n",
      "\n",
      "    accuracy                           1.00      6650\n",
      "   macro avg       1.00      1.00      1.00      6650\n",
      "weighted avg       1.00      1.00      1.00      6650\n",
      "\n",
      "roc auc score 1.0\n"
     ]
    }
   ],
   "source": [
    "print(accuracy_score(y2,prediction_new))\n",
    "print(classification_report(y2,prediction_new))\n",
    "y_pred_prob_new=rfc_new_ful.predict_proba(X2)\n",
    "print(\"roc auc score\",roc_auc_score(y2,y_pred_prob_new[:,1]))"
   ]
  },
  {
   "cell_type": "code",
   "execution_count": 19,
   "metadata": {},
   "outputs": [],
   "source": [
    "def preprocess2(test_data):\n",
    "    test_data['inc_bal_rat'] = test_data.apply(lambda x: inc_bal_ratio(x['Income'], x['Balance']), axis=1)\n",
    "    test_data['networth_inbank']=test_data['Vintage']*data['Balance']\n",
    "    test_data['start_age']=test_data['Age']-data['Vintage']\n",
    "    test_data['age_bal_ratio']=test_data['Balance']/data['Age']\n",
    "    print(test_data.head(2))\n",
    "    return test_data\n",
    "    "
   ]
  },
  {
   "cell_type": "code",
   "execution_count": 23,
   "metadata": {},
   "outputs": [
    {
     "name": "stdout",
     "output_type": "stream",
     "text": [
      "         ID  Age  Gender  Income     Balance  Vintage  Transaction_Status  \\\n",
      "0  55480787   50       1       4  1008636.39        2                   1   \n",
      "1  9aededf2   36       0       2   341460.72        2                   0   \n",
      "\n",
      "   Product_Holdings  Credit_Card  Credit_Category  inc_bal_rat  \\\n",
      "0                 2            1                0     0.576364   \n",
      "1                 2            1                0     0.455281   \n",
      "\n",
      "   networth_inbank  start_age  age_bal_ratio  \n",
      "0       1126532.88       46.0   28017.677500  \n",
      "1       1751144.22       34.0    6442.655094  \n"
     ]
    }
   ],
   "source": [
    "test_data=preprocess2(test_data)\n",
    "# test_pred=rfc_new_ful.predict(test_data.drop('ID',axis=1))\n",
    "# test_pred_df=pd.DataFrame(test_pred,columns=['Is_Churn'])\n",
    "# df_out = pd.concat([test_pred_df, test['ID']], axis=1)\n",
    "# df_out.set_index('ID',inplace=True)\n",
    "# df_out['Is_Churn'].value_counts()\n"
   ]
  },
  {
   "cell_type": "code",
   "execution_count": 135,
   "metadata": {},
   "outputs": [
    {
     "name": "stdout",
     "output_type": "stream",
     "text": [
      "Fitting 3 folds for each of 10 candidates, totalling 30 fits\n",
      "[CV] n_estimators=5200, min_samples_split=2, min_samples_leaf=1, max_features=auto, max_depth=91 \n"
     ]
    },
    {
     "name": "stderr",
     "output_type": "stream",
     "text": [
      "[Parallel(n_jobs=1)]: Using backend SequentialBackend with 1 concurrent workers.\n"
     ]
    },
    {
     "name": "stdout",
     "output_type": "stream",
     "text": [
      "[CV]  n_estimators=5200, min_samples_split=2, min_samples_leaf=1, max_features=auto, max_depth=91, total= 2.9min\n",
      "[CV] n_estimators=5200, min_samples_split=2, min_samples_leaf=1, max_features=auto, max_depth=91 \n"
     ]
    },
    {
     "name": "stderr",
     "output_type": "stream",
     "text": [
      "[Parallel(n_jobs=1)]: Done   1 out of   1 | elapsed:  2.9min remaining:    0.0s\n"
     ]
    },
    {
     "name": "stdout",
     "output_type": "stream",
     "text": [
      "[CV]  n_estimators=5200, min_samples_split=2, min_samples_leaf=1, max_features=auto, max_depth=91, total= 2.7min\n",
      "[CV] n_estimators=5200, min_samples_split=2, min_samples_leaf=1, max_features=auto, max_depth=91 \n",
      "[CV]  n_estimators=5200, min_samples_split=2, min_samples_leaf=1, max_features=auto, max_depth=91, total= 2.6min\n",
      "[CV] n_estimators=7300, min_samples_split=10, min_samples_leaf=5, max_features=sqrt, max_depth=91 \n",
      "[CV]  n_estimators=7300, min_samples_split=10, min_samples_leaf=5, max_features=sqrt, max_depth=91, total= 4.9min\n",
      "[CV] n_estimators=7300, min_samples_split=10, min_samples_leaf=5, max_features=sqrt, max_depth=91 \n",
      "[CV]  n_estimators=7300, min_samples_split=10, min_samples_leaf=5, max_features=sqrt, max_depth=91, total= 4.6min\n",
      "[CV] n_estimators=7300, min_samples_split=10, min_samples_leaf=5, max_features=sqrt, max_depth=91 \n",
      "[CV]  n_estimators=7300, min_samples_split=10, min_samples_leaf=5, max_features=sqrt, max_depth=91, total= 4.1min\n",
      "[CV] n_estimators=2400, min_samples_split=10, min_samples_leaf=5, max_features=auto, max_depth=28 \n",
      "[CV]  n_estimators=2400, min_samples_split=10, min_samples_leaf=5, max_features=auto, max_depth=28, total= 1.2min\n",
      "[CV] n_estimators=2400, min_samples_split=10, min_samples_leaf=5, max_features=auto, max_depth=28 \n",
      "[CV]  n_estimators=2400, min_samples_split=10, min_samples_leaf=5, max_features=auto, max_depth=28, total= 1.0min\n",
      "[CV] n_estimators=2400, min_samples_split=10, min_samples_leaf=5, max_features=auto, max_depth=28 \n",
      "[CV]  n_estimators=2400, min_samples_split=10, min_samples_leaf=5, max_features=auto, max_depth=28, total= 1.0min\n",
      "[CV] n_estimators=5900, min_samples_split=5, min_samples_leaf=2, max_features=sqrt, max_depth=37 \n",
      "[CV]  n_estimators=5900, min_samples_split=5, min_samples_leaf=2, max_features=sqrt, max_depth=37, total= 3.9min\n",
      "[CV] n_estimators=5900, min_samples_split=5, min_samples_leaf=2, max_features=sqrt, max_depth=37 \n",
      "[CV]  n_estimators=5900, min_samples_split=5, min_samples_leaf=2, max_features=sqrt, max_depth=37, total= 4.9min\n",
      "[CV] n_estimators=5900, min_samples_split=5, min_samples_leaf=2, max_features=sqrt, max_depth=37 \n",
      "[CV]  n_estimators=5900, min_samples_split=5, min_samples_leaf=2, max_features=sqrt, max_depth=37, total= 3.8min\n",
      "[CV] n_estimators=6600, min_samples_split=10, min_samples_leaf=2, max_features=auto, max_depth=37 \n",
      "[CV]  n_estimators=6600, min_samples_split=10, min_samples_leaf=2, max_features=auto, max_depth=37, total= 3.7min\n",
      "[CV] n_estimators=6600, min_samples_split=10, min_samples_leaf=2, max_features=auto, max_depth=37 \n",
      "[CV]  n_estimators=6600, min_samples_split=10, min_samples_leaf=2, max_features=auto, max_depth=37, total= 3.8min\n",
      "[CV] n_estimators=6600, min_samples_split=10, min_samples_leaf=2, max_features=auto, max_depth=37 \n",
      "[CV]  n_estimators=6600, min_samples_split=10, min_samples_leaf=2, max_features=auto, max_depth=37, total= 3.6min\n",
      "[CV] n_estimators=5200, min_samples_split=15, min_samples_leaf=1, max_features=auto, max_depth=37 \n",
      "[CV]  n_estimators=5200, min_samples_split=15, min_samples_leaf=1, max_features=auto, max_depth=37, total= 3.3min\n",
      "[CV] n_estimators=5200, min_samples_split=15, min_samples_leaf=1, max_features=auto, max_depth=37 \n",
      "[CV]  n_estimators=5200, min_samples_split=15, min_samples_leaf=1, max_features=auto, max_depth=37, total= 3.0min\n",
      "[CV] n_estimators=5200, min_samples_split=15, min_samples_leaf=1, max_features=auto, max_depth=37 \n",
      "[CV]  n_estimators=5200, min_samples_split=15, min_samples_leaf=1, max_features=auto, max_depth=37, total= 3.5min\n",
      "[CV] n_estimators=8000, min_samples_split=10, min_samples_leaf=2, max_features=sqrt, max_depth=100 \n",
      "[CV]  n_estimators=8000, min_samples_split=10, min_samples_leaf=2, max_features=sqrt, max_depth=100, total= 4.2min\n",
      "[CV] n_estimators=8000, min_samples_split=10, min_samples_leaf=2, max_features=sqrt, max_depth=100 \n",
      "[CV]  n_estimators=8000, min_samples_split=10, min_samples_leaf=2, max_features=sqrt, max_depth=100, total= 4.0min\n",
      "[CV] n_estimators=8000, min_samples_split=10, min_samples_leaf=2, max_features=sqrt, max_depth=100 \n",
      "[CV]  n_estimators=8000, min_samples_split=10, min_samples_leaf=2, max_features=sqrt, max_depth=100, total= 3.8min\n",
      "[CV] n_estimators=1700, min_samples_split=5, min_samples_leaf=3, max_features=sqrt, max_depth=82 \n",
      "[CV]  n_estimators=1700, min_samples_split=5, min_samples_leaf=3, max_features=sqrt, max_depth=82, total=  43.3s\n",
      "[CV] n_estimators=1700, min_samples_split=5, min_samples_leaf=3, max_features=sqrt, max_depth=82 \n",
      "[CV]  n_estimators=1700, min_samples_split=5, min_samples_leaf=3, max_features=sqrt, max_depth=82, total=  36.7s\n",
      "[CV] n_estimators=1700, min_samples_split=5, min_samples_leaf=3, max_features=sqrt, max_depth=82 \n",
      "[CV]  n_estimators=1700, min_samples_split=5, min_samples_leaf=3, max_features=sqrt, max_depth=82, total=  58.1s\n",
      "[CV] n_estimators=8000, min_samples_split=2, min_samples_leaf=2, max_features=sqrt, max_depth=46 \n",
      "[CV]  n_estimators=8000, min_samples_split=2, min_samples_leaf=2, max_features=sqrt, max_depth=46, total= 5.3min\n",
      "[CV] n_estimators=8000, min_samples_split=2, min_samples_leaf=2, max_features=sqrt, max_depth=46 \n",
      "[CV]  n_estimators=8000, min_samples_split=2, min_samples_leaf=2, max_features=sqrt, max_depth=46, total= 5.3min\n",
      "[CV] n_estimators=8000, min_samples_split=2, min_samples_leaf=2, max_features=sqrt, max_depth=46 \n",
      "[CV]  n_estimators=8000, min_samples_split=2, min_samples_leaf=2, max_features=sqrt, max_depth=46, total= 5.4min\n",
      "[CV] n_estimators=2400, min_samples_split=5, min_samples_leaf=2, max_features=auto, max_depth=64 \n",
      "[CV]  n_estimators=2400, min_samples_split=5, min_samples_leaf=2, max_features=auto, max_depth=64, total= 1.4min\n",
      "[CV] n_estimators=2400, min_samples_split=5, min_samples_leaf=2, max_features=auto, max_depth=64 \n",
      "[CV]  n_estimators=2400, min_samples_split=5, min_samples_leaf=2, max_features=auto, max_depth=64, total= 1.3min\n",
      "[CV] n_estimators=2400, min_samples_split=5, min_samples_leaf=2, max_features=auto, max_depth=64 \n",
      "[CV]  n_estimators=2400, min_samples_split=5, min_samples_leaf=2, max_features=auto, max_depth=64, total= 1.2min\n"
     ]
    },
    {
     "name": "stderr",
     "output_type": "stream",
     "text": [
      "[Parallel(n_jobs=1)]: Done  30 out of  30 | elapsed: 95.6min finished\n"
     ]
    },
    {
     "name": "stdout",
     "output_type": "stream",
     "text": [
      "best parameters RandomForestClassifier(bootstrap=True, ccp_alpha=0.0, class_weight=None,\n",
      "                       criterion='gini', max_depth=91, max_features='auto',\n",
      "                       max_leaf_nodes=None, max_samples=None,\n",
      "                       min_impurity_decrease=0.0, min_impurity_split=None,\n",
      "                       min_samples_leaf=1, min_samples_split=2,\n",
      "                       min_weight_fraction_leaf=0.0, n_estimators=5200,\n",
      "                       n_jobs=None, oob_score=False, random_state=None,\n",
      "                       verbose=0, warm_start=False)\n",
      "1.0\n",
      "              precision    recall  f1-score   support\n",
      "\n",
      "           0       1.00      1.00      1.00      5113\n",
      "           1       1.00      1.00      1.00      1537\n",
      "\n",
      "    accuracy                           1.00      6650\n",
      "   macro avg       1.00      1.00      1.00      6650\n",
      "weighted avg       1.00      1.00      1.00      6650\n",
      "\n"
     ]
    }
   ],
   "source": [
    "rf_c=RandomForestClassifier()\n",
    "param_grid={'n_estimators':[int(x) for x in np.linspace(start=1000,stop=8000,num=11)],\n",
    "            'max_features':['auto','sqrt'],\n",
    "            'max_depth':[int(x) for x in np.linspace(start=10,stop=100,num=11)],\n",
    "            'min_samples_leaf':[1,2,3,5],\n",
    "            'min_samples_split':[2,5,10,15]}\n",
    "random_cv=RandomizedSearchCV(rf_c,param_grid,cv=3,verbose=2,random_state=42,scoring='f1')\n",
    "random_cv.fit(X2,y2)\n",
    "best_random=random_cv.best_estimator_\n",
    "print(\"best parameters\",best_random)\n",
    "prediction_cv=best_random.predict(X2)\n",
    "print(accuracy_score(y2,prediction_cv))\n",
    "print(classification_report(y2,prediction_cv))"
   ]
  },
  {
   "cell_type": "code",
   "execution_count": 136,
   "metadata": {},
   "outputs": [
    {
     "data": {
      "text/plain": [
       "0    2765\n",
       "1      86\n",
       "Name: Is_Churn, dtype: int64"
      ]
     },
     "execution_count": 136,
     "metadata": {},
     "output_type": "execute_result"
    }
   ],
   "source": [
    "test_pred=best_random.predict(test_data.drop('ID',axis=1))\n",
    "test_pred_df=pd.DataFrame(test_pred,columns=['Is_Churn'])\n",
    "df_out = pd.concat([test_pred_df, test['ID']], axis=1)\n",
    "df_out.set_index('ID',inplace=True)\n",
    "df_out['Is_Churn'].value_counts()"
   ]
  },
  {
   "cell_type": "code",
   "execution_count": 177,
   "metadata": {},
   "outputs": [
    {
     "data": {
      "text/html": [
       "<div>\n",
       "<style scoped>\n",
       "    .dataframe tbody tr th:only-of-type {\n",
       "        vertical-align: middle;\n",
       "    }\n",
       "\n",
       "    .dataframe tbody tr th {\n",
       "        vertical-align: top;\n",
       "    }\n",
       "\n",
       "    .dataframe thead th {\n",
       "        text-align: right;\n",
       "    }\n",
       "</style>\n",
       "<table border=\"1\" class=\"dataframe\">\n",
       "  <thead>\n",
       "    <tr style=\"text-align: right;\">\n",
       "      <th></th>\n",
       "      <th>ID</th>\n",
       "      <th>Age</th>\n",
       "      <th>Gender</th>\n",
       "      <th>Income</th>\n",
       "      <th>Balance</th>\n",
       "      <th>Vintage</th>\n",
       "      <th>Transaction_Status</th>\n",
       "      <th>Product_Holdings</th>\n",
       "      <th>Credit_Card</th>\n",
       "      <th>Credit_Category</th>\n",
       "      <th>inc_bal_rat</th>\n",
       "      <th>networth_inbank</th>\n",
       "      <th>start_age</th>\n",
       "      <th>age_bal_ratio</th>\n",
       "    </tr>\n",
       "  </thead>\n",
       "  <tbody>\n",
       "    <tr>\n",
       "      <th>0</th>\n",
       "      <td>55480787</td>\n",
       "      <td>50</td>\n",
       "      <td>1</td>\n",
       "      <td>4</td>\n",
       "      <td>1008636.39</td>\n",
       "      <td>2</td>\n",
       "      <td>1</td>\n",
       "      <td>2</td>\n",
       "      <td>1</td>\n",
       "      <td>0</td>\n",
       "      <td>0.576364</td>\n",
       "      <td>1126532.88</td>\n",
       "      <td>46.0</td>\n",
       "      <td>28017.677500</td>\n",
       "    </tr>\n",
       "    <tr>\n",
       "      <th>1</th>\n",
       "      <td>9aededf2</td>\n",
       "      <td>36</td>\n",
       "      <td>0</td>\n",
       "      <td>2</td>\n",
       "      <td>341460.72</td>\n",
       "      <td>2</td>\n",
       "      <td>0</td>\n",
       "      <td>2</td>\n",
       "      <td>1</td>\n",
       "      <td>0</td>\n",
       "      <td>0.455281</td>\n",
       "      <td>1751144.22</td>\n",
       "      <td>34.0</td>\n",
       "      <td>6442.655094</td>\n",
       "    </tr>\n",
       "    <tr>\n",
       "      <th>2</th>\n",
       "      <td>a5034a09</td>\n",
       "      <td>25</td>\n",
       "      <td>1</td>\n",
       "      <td>3</td>\n",
       "      <td>439460.10</td>\n",
       "      <td>0</td>\n",
       "      <td>0</td>\n",
       "      <td>2</td>\n",
       "      <td>1</td>\n",
       "      <td>1</td>\n",
       "      <td>0.351568</td>\n",
       "      <td>0.00</td>\n",
       "      <td>23.0</td>\n",
       "      <td>12556.002857</td>\n",
       "    </tr>\n",
       "    <tr>\n",
       "      <th>3</th>\n",
       "      <td>b3256702</td>\n",
       "      <td>41</td>\n",
       "      <td>0</td>\n",
       "      <td>1</td>\n",
       "      <td>28581.93</td>\n",
       "      <td>0</td>\n",
       "      <td>1</td>\n",
       "      <td>2</td>\n",
       "      <td>1</td>\n",
       "      <td>-1</td>\n",
       "      <td>0.114328</td>\n",
       "      <td>0.00</td>\n",
       "      <td>41.0</td>\n",
       "      <td>664.696047</td>\n",
       "    </tr>\n",
       "    <tr>\n",
       "      <th>4</th>\n",
       "      <td>dc28adb5</td>\n",
       "      <td>48</td>\n",
       "      <td>0</td>\n",
       "      <td>4</td>\n",
       "      <td>1104540.03</td>\n",
       "      <td>2</td>\n",
       "      <td>1</td>\n",
       "      <td>3</td>\n",
       "      <td>0</td>\n",
       "      <td>1</td>\n",
       "      <td>0.631166</td>\n",
       "      <td>1786292.46</td>\n",
       "      <td>47.0</td>\n",
       "      <td>28321.539231</td>\n",
       "    </tr>\n",
       "  </tbody>\n",
       "</table>\n",
       "</div>"
      ],
      "text/plain": [
       "         ID  Age  Gender  Income     Balance  Vintage  Transaction_Status  \\\n",
       "0  55480787   50       1       4  1008636.39        2                   1   \n",
       "1  9aededf2   36       0       2   341460.72        2                   0   \n",
       "2  a5034a09   25       1       3   439460.10        0                   0   \n",
       "3  b3256702   41       0       1    28581.93        0                   1   \n",
       "4  dc28adb5   48       0       4  1104540.03        2                   1   \n",
       "\n",
       "   Product_Holdings  Credit_Card  Credit_Category  inc_bal_rat  \\\n",
       "0                 2            1                0     0.576364   \n",
       "1                 2            1                0     0.455281   \n",
       "2                 2            1                1     0.351568   \n",
       "3                 2            1               -1     0.114328   \n",
       "4                 3            0                1     0.631166   \n",
       "\n",
       "   networth_inbank  start_age  age_bal_ratio  \n",
       "0       1126532.88       46.0   28017.677500  \n",
       "1       1751144.22       34.0    6442.655094  \n",
       "2             0.00       23.0   12556.002857  \n",
       "3             0.00       41.0     664.696047  \n",
       "4       1786292.46       47.0   28321.539231  "
      ]
     },
     "execution_count": 177,
     "metadata": {},
     "output_type": "execute_result"
    }
   ],
   "source": [
    "test_data.head()"
   ]
  },
  {
   "cell_type": "code",
   "execution_count": 26,
   "metadata": {},
   "outputs": [],
   "source": [
    "test_data['tran_cred']=test_data['Transaction_Status']+test_data['Credit_Card']\n",
    "test_data['bal_6m']=test_data['Balance']*2"
   ]
  },
  {
   "cell_type": "code",
   "execution_count": 27,
   "metadata": {},
   "outputs": [
    {
     "name": "stderr",
     "output_type": "stream",
     "text": [
      "C:\\ProgramData\\Anaconda3\\lib\\site-packages\\xgboost\\sklearn.py:1224: UserWarning: The use of label encoder in XGBClassifier is deprecated and will be removed in a future release. To remove this warning, do the following: 1) Pass option use_label_encoder=False when constructing XGBClassifier object; and 2) Encode your labels (y) as integers starting with 0, i.e. 0, 1, 2, ..., [num_class - 1].\n",
      "  warnings.warn(label_encoder_deprecation_msg, UserWarning)\n"
     ]
    },
    {
     "name": "stdout",
     "output_type": "stream",
     "text": [
      "[21:24:44] WARNING: ..\\src\\learner.cc:576: \n",
      "Parameters: { \"params\" } might not be used.\n",
      "\n",
      "  This could be a false alarm, with some parameters getting used by language bindings but\n",
      "  then being mistakenly passed down to XGBoost core, or some parameter actually being used\n",
      "  but getting flagged wrongly here. Please open an issue if you find any such cases.\n",
      "\n",
      "\n",
      "[21:24:44] WARNING: ..\\src\\learner.cc:1115: Starting in XGBoost 1.3.0, the default evaluation metric used with the objective 'binary:logistic' was changed from 'error' to 'logloss'. Explicitly set eval_metric if you'd like to restore the old behavior.\n",
      "0.7492483463619964\n",
      "[0 0 0 ... 1 0 1]\n",
      "Accuracy for Random Forest on CV data:  0.7492483463619964\n",
      "              precision    recall  f1-score   support\n",
      "\n",
      "           0       0.79      0.92      0.85      1301\n",
      "           1       0.32      0.14      0.20       362\n",
      "\n",
      "    accuracy                           0.75      1663\n",
      "   macro avg       0.56      0.53      0.52      1663\n",
      "weighted avg       0.69      0.75      0.71      1663\n",
      "\n",
      "roc auc score 0.5831808086427355\n",
      "0    2583\n",
      "1     268\n",
      "Name: Is_Churn, dtype: int64\n"
     ]
    }
   ],
   "source": [
    "from xgboost import XGBClassifier\n",
    "xgb_model2 = XGBClassifier(params={'max_depth': 40, 'n_estimators': 5200})\n",
    "xgb_model2.fit(X_train2, y_train2)\n",
    "prediction_xgb = xgb_model2.predict(X_test2)\n",
    "print(accuracy_score(y_test2, prediction_xgb))\n",
    "print(prediction_xgb)\n",
    "pred=xgb_model2.predict(X_test2)\n",
    "print(\"Accuracy for Random Forest on CV data: \",accuracy_score(y_test2,pred))\n",
    "print(classification_report(y_test2,pred))\n",
    "y_pred_prob=xgb_model2.predict_proba(X_test2)\n",
    "print(\"roc auc score\",roc_auc_score(y_test2,y_pred_prob[:,1]))\n",
    "test_pred=xgb_model2.predict(test_data.drop('ID',axis=1))\n",
    "test_pred_df=pd.DataFrame(test_pred,columns=['Is_Churn'])\n",
    "df_out = pd.concat([test_pred_df, test['ID']], axis=1)\n",
    "df_out.set_index('ID',inplace=True)\n",
    "print(df_out['Is_Churn'].value_counts())\n",
    "df_out.to_csv('xgb_new.csv')"
   ]
  },
  {
   "cell_type": "markdown",
   "metadata": {},
   "source": [
    "# PCA DataCreation"
   ]
  },
  {
   "cell_type": "code",
   "execution_count": 225,
   "metadata": {},
   "outputs": [],
   "source": [
    "from sklearn.preprocessing import StandardScaler\n",
    "X_train3 = StandardScaler().fit_transform(data.drop('ID',axis=1))\n",
    "from sklearn.decomposition import PCA\n",
    "pca = PCA(n_components=5)\n",
    "principalComponents = pca.fit_transform(X_train3)\n",
    "principalDf = pd.DataFrame(data = principalComponents\n",
    "             , columns = ['pca_1', 'pca_2','pca_3','pca_4','pca_5'])\n",
    "finalDf = pd.concat([principalDf, data[['Is_Churn']]], axis = 1)\n"
   ]
  },
  {
   "cell_type": "code",
   "execution_count": 226,
   "metadata": {},
   "outputs": [
    {
     "data": {
      "text/plain": [
       "(6650, 5)"
      ]
     },
     "execution_count": 226,
     "metadata": {},
     "output_type": "execute_result"
    }
   ],
   "source": [
    "principalDf.shape"
   ]
  },
  {
   "cell_type": "code",
   "execution_count": 204,
   "metadata": {},
   "outputs": [
    {
     "data": {
      "text/plain": [
       "(6650, 9)"
      ]
     },
     "execution_count": 204,
     "metadata": {},
     "output_type": "execute_result"
    }
   ],
   "source": [
    "finalDf.shape"
   ]
  },
  {
   "cell_type": "code",
   "execution_count": 174,
   "metadata": {},
   "outputs": [
    {
     "data": {
      "text/html": [
       "<div>\n",
       "<style scoped>\n",
       "    .dataframe tbody tr th:only-of-type {\n",
       "        vertical-align: middle;\n",
       "    }\n",
       "\n",
       "    .dataframe tbody tr th {\n",
       "        vertical-align: top;\n",
       "    }\n",
       "\n",
       "    .dataframe thead th {\n",
       "        text-align: right;\n",
       "    }\n",
       "</style>\n",
       "<table border=\"1\" class=\"dataframe\">\n",
       "  <thead>\n",
       "    <tr style=\"text-align: right;\">\n",
       "      <th></th>\n",
       "      <th>ID</th>\n",
       "      <th>Age</th>\n",
       "      <th>Gender</th>\n",
       "      <th>Income</th>\n",
       "      <th>Balance</th>\n",
       "      <th>Vintage</th>\n",
       "      <th>Transaction_Status</th>\n",
       "      <th>Product_Holdings</th>\n",
       "      <th>Credit_Card</th>\n",
       "      <th>Credit_Category</th>\n",
       "    </tr>\n",
       "  </thead>\n",
       "  <tbody>\n",
       "    <tr>\n",
       "      <th>0</th>\n",
       "      <td>55480787</td>\n",
       "      <td>50</td>\n",
       "      <td>Female</td>\n",
       "      <td>More than 15L</td>\n",
       "      <td>1008636.39</td>\n",
       "      <td>2</td>\n",
       "      <td>1</td>\n",
       "      <td>2</td>\n",
       "      <td>1</td>\n",
       "      <td>Average</td>\n",
       "    </tr>\n",
       "    <tr>\n",
       "      <th>1</th>\n",
       "      <td>9aededf2</td>\n",
       "      <td>36</td>\n",
       "      <td>Male</td>\n",
       "      <td>5L - 10L</td>\n",
       "      <td>341460.72</td>\n",
       "      <td>2</td>\n",
       "      <td>0</td>\n",
       "      <td>2</td>\n",
       "      <td>1</td>\n",
       "      <td>Average</td>\n",
       "    </tr>\n",
       "    <tr>\n",
       "      <th>2</th>\n",
       "      <td>a5034a09</td>\n",
       "      <td>25</td>\n",
       "      <td>Female</td>\n",
       "      <td>10L - 15L</td>\n",
       "      <td>439460.10</td>\n",
       "      <td>0</td>\n",
       "      <td>0</td>\n",
       "      <td>2</td>\n",
       "      <td>1</td>\n",
       "      <td>Good</td>\n",
       "    </tr>\n",
       "    <tr>\n",
       "      <th>3</th>\n",
       "      <td>b3256702</td>\n",
       "      <td>41</td>\n",
       "      <td>Male</td>\n",
       "      <td>Less than 5L</td>\n",
       "      <td>28581.93</td>\n",
       "      <td>0</td>\n",
       "      <td>1</td>\n",
       "      <td>2</td>\n",
       "      <td>1</td>\n",
       "      <td>Poor</td>\n",
       "    </tr>\n",
       "    <tr>\n",
       "      <th>4</th>\n",
       "      <td>dc28adb5</td>\n",
       "      <td>48</td>\n",
       "      <td>Male</td>\n",
       "      <td>More than 15L</td>\n",
       "      <td>1104540.03</td>\n",
       "      <td>2</td>\n",
       "      <td>1</td>\n",
       "      <td>3+</td>\n",
       "      <td>0</td>\n",
       "      <td>Good</td>\n",
       "    </tr>\n",
       "  </tbody>\n",
       "</table>\n",
       "</div>"
      ],
      "text/plain": [
       "         ID  Age  Gender         Income     Balance  Vintage  \\\n",
       "0  55480787   50  Female  More than 15L  1008636.39        2   \n",
       "1  9aededf2   36    Male       5L - 10L   341460.72        2   \n",
       "2  a5034a09   25  Female      10L - 15L   439460.10        0   \n",
       "3  b3256702   41    Male   Less than 5L    28581.93        0   \n",
       "4  dc28adb5   48    Male  More than 15L  1104540.03        2   \n",
       "\n",
       "   Transaction_Status Product_Holdings  Credit_Card Credit_Category  \n",
       "0                   1                2            1         Average  \n",
       "1                   0                2            1         Average  \n",
       "2                   0                2            1            Good  \n",
       "3                   1                2            1            Poor  \n",
       "4                   1               3+            0            Good  "
      ]
     },
     "execution_count": 174,
     "metadata": {},
     "output_type": "execute_result"
    }
   ],
   "source": [
    "test.head()"
   ]
  },
  {
   "cell_type": "code",
   "execution_count": 227,
   "metadata": {},
   "outputs": [
    {
     "data": {
      "text/html": [
       "<div>\n",
       "<style scoped>\n",
       "    .dataframe tbody tr th:only-of-type {\n",
       "        vertical-align: middle;\n",
       "    }\n",
       "\n",
       "    .dataframe tbody tr th {\n",
       "        vertical-align: top;\n",
       "    }\n",
       "\n",
       "    .dataframe thead th {\n",
       "        text-align: right;\n",
       "    }\n",
       "</style>\n",
       "<table border=\"1\" class=\"dataframe\">\n",
       "  <thead>\n",
       "    <tr style=\"text-align: right;\">\n",
       "      <th></th>\n",
       "      <th>pca_1</th>\n",
       "      <th>pca_2</th>\n",
       "      <th>pca_3</th>\n",
       "      <th>pca_4</th>\n",
       "      <th>pca_5</th>\n",
       "      <th>Is_Churn</th>\n",
       "    </tr>\n",
       "  </thead>\n",
       "  <tbody>\n",
       "    <tr>\n",
       "      <th>0</th>\n",
       "      <td>-0.118821</td>\n",
       "      <td>-1.002943</td>\n",
       "      <td>2.497351</td>\n",
       "      <td>-0.878575</td>\n",
       "      <td>-0.810139</td>\n",
       "      <td>1</td>\n",
       "    </tr>\n",
       "    <tr>\n",
       "      <th>1</th>\n",
       "      <td>0.353358</td>\n",
       "      <td>2.164524</td>\n",
       "      <td>-1.179778</td>\n",
       "      <td>1.516835</td>\n",
       "      <td>-1.097364</td>\n",
       "      <td>0</td>\n",
       "    </tr>\n",
       "    <tr>\n",
       "      <th>2</th>\n",
       "      <td>-0.584360</td>\n",
       "      <td>-1.167004</td>\n",
       "      <td>0.063375</td>\n",
       "      <td>-0.817145</td>\n",
       "      <td>1.170898</td>\n",
       "      <td>0</td>\n",
       "    </tr>\n",
       "    <tr>\n",
       "      <th>3</th>\n",
       "      <td>0.559628</td>\n",
       "      <td>1.324527</td>\n",
       "      <td>-1.413376</td>\n",
       "      <td>0.123175</td>\n",
       "      <td>2.563386</td>\n",
       "      <td>1</td>\n",
       "    </tr>\n",
       "    <tr>\n",
       "      <th>4</th>\n",
       "      <td>-0.173185</td>\n",
       "      <td>0.648027</td>\n",
       "      <td>-1.550357</td>\n",
       "      <td>-0.543839</td>\n",
       "      <td>1.835817</td>\n",
       "      <td>1</td>\n",
       "    </tr>\n",
       "  </tbody>\n",
       "</table>\n",
       "</div>"
      ],
      "text/plain": [
       "      pca_1     pca_2     pca_3     pca_4     pca_5  Is_Churn\n",
       "0 -0.118821 -1.002943  2.497351 -0.878575 -0.810139         1\n",
       "1  0.353358  2.164524 -1.179778  1.516835 -1.097364         0\n",
       "2 -0.584360 -1.167004  0.063375 -0.817145  1.170898         0\n",
       "3  0.559628  1.324527 -1.413376  0.123175  2.563386         1\n",
       "4 -0.173185  0.648027 -1.550357 -0.543839  1.835817         1"
      ]
     },
     "execution_count": 227,
     "metadata": {},
     "output_type": "execute_result"
    }
   ],
   "source": [
    "finalDf.head()"
   ]
  },
  {
   "cell_type": "code",
   "execution_count": 172,
   "metadata": {},
   "outputs": [],
   "source": [
    "y3=data['Is_Churn']\n",
    "X3=data.drop(['Is_Churn','ID'],axis=1)\n",
    "X_train3, X_test3, y_train3, y_test3 = train_test_split(X3,y3,test_size=.25)"
   ]
  },
  {
   "cell_type": "code",
   "execution_count": 223,
   "metadata": {},
   "outputs": [
    {
     "data": {
      "text/plain": [
       "Index(['Age', 'Gender', 'Income', 'Balance', 'Vintage', 'Transaction_Status',\n",
       "       'Product_Holdings', 'Credit_Card', 'Credit_Category', 'inc_bal_rat',\n",
       "       'networth_inbank', 'start_age', 'age_bal_ratio', 'tran_cred', 'bal_6m'],\n",
       "      dtype='object')"
      ]
     },
     "execution_count": 223,
     "metadata": {},
     "output_type": "execute_result"
    }
   ],
   "source": [
    "X_train3.columns"
   ]
  },
  {
   "cell_type": "code",
   "execution_count": 173,
   "metadata": {},
   "outputs": [
    {
     "name": "stdout",
     "output_type": "stream",
     "text": [
      "              precision    recall  f1-score   support\n",
      "\n",
      "           0       0.77      0.96      0.86      1282\n",
      "           1       0.32      0.06      0.10       381\n",
      "\n",
      "    accuracy                           0.76      1663\n",
      "   macro avg       0.55      0.51      0.48      1663\n",
      "weighted avg       0.67      0.76      0.68      1663\n",
      "\n",
      "--------------------------\n",
      "accuracy score 0.7233914612146722\n",
      "              precision    recall  f1-score   support\n",
      "\n",
      "           0       0.81      0.84      0.82      1282\n",
      "           1       0.38      0.32      0.35       381\n",
      "\n",
      "    accuracy                           0.72      1663\n",
      "   macro avg       0.59      0.58      0.59      1663\n",
      "weighted avg       0.71      0.72      0.72      1663\n",
      "\n",
      "roc auc score 0.6262504043468825\n"
     ]
    }
   ],
   "source": [
    "rfc_pca=RandomForestClassifier( n_estimators= 5000,max_depth=40,n_jobs=-1)\n",
    "rfc_pca.fit(X_train3, y_train3)\n",
    "prediction_new=rfc_pca.predict(X_test3)\n",
    "print(classification_report(y_test3,prediction_new))\n",
    "print(\"--------------------------\")\n",
    "pred_thrs=[]\n",
    "pred_test=rfc_pca.predict_proba(X_test3)\n",
    "for i in pred_test:\n",
    "    if i[0]<0.65:\n",
    "        pred_thrs.append(1)\n",
    "    else:\n",
    "        pred_thrs.append(0)\n",
    "print(\"accuracy score\",accuracy_score(y_test3,pred_thrs))\n",
    "print(classification_report(y_test3,pred_thrs))\n",
    "y_pred_prob_new=rfc_pca.predict_proba(X_test3)\n",
    "print(\"roc auc score\",roc_auc_score(y_test3,y_pred_prob_new[:,1]))"
   ]
  },
  {
   "cell_type": "code",
   "execution_count": 183,
   "metadata": {},
   "outputs": [
    {
     "data": {
      "text/html": [
       "<div>\n",
       "<style scoped>\n",
       "    .dataframe tbody tr th:only-of-type {\n",
       "        vertical-align: middle;\n",
       "    }\n",
       "\n",
       "    .dataframe tbody tr th {\n",
       "        vertical-align: top;\n",
       "    }\n",
       "\n",
       "    .dataframe thead th {\n",
       "        text-align: right;\n",
       "    }\n",
       "</style>\n",
       "<table border=\"1\" class=\"dataframe\">\n",
       "  <thead>\n",
       "    <tr style=\"text-align: right;\">\n",
       "      <th></th>\n",
       "      <th>Age</th>\n",
       "      <th>Gender</th>\n",
       "      <th>Income</th>\n",
       "      <th>Balance</th>\n",
       "      <th>Vintage</th>\n",
       "      <th>Transaction_Status</th>\n",
       "      <th>Product_Holdings</th>\n",
       "      <th>Credit_Card</th>\n",
       "      <th>Credit_Category</th>\n",
       "      <th>inc_bal_rat</th>\n",
       "      <th>networth_inbank</th>\n",
       "      <th>start_age</th>\n",
       "      <th>age_bal_ratio</th>\n",
       "      <th>tran_cred</th>\n",
       "      <th>bal_6m</th>\n",
       "    </tr>\n",
       "  </thead>\n",
       "  <tbody>\n",
       "    <tr>\n",
       "      <th>1686</th>\n",
       "      <td>64</td>\n",
       "      <td>0</td>\n",
       "      <td>1</td>\n",
       "      <td>740499.75</td>\n",
       "      <td>4</td>\n",
       "      <td>0</td>\n",
       "      <td>1</td>\n",
       "      <td>0</td>\n",
       "      <td>-1</td>\n",
       "      <td>2.961999</td>\n",
       "      <td>2961999.00</td>\n",
       "      <td>60</td>\n",
       "      <td>11570.308594</td>\n",
       "      <td>0</td>\n",
       "      <td>1480999.50</td>\n",
       "    </tr>\n",
       "    <tr>\n",
       "      <th>1563</th>\n",
       "      <td>44</td>\n",
       "      <td>0</td>\n",
       "      <td>3</td>\n",
       "      <td>1129243.68</td>\n",
       "      <td>3</td>\n",
       "      <td>1</td>\n",
       "      <td>2</td>\n",
       "      <td>0</td>\n",
       "      <td>-1</td>\n",
       "      <td>0.903395</td>\n",
       "      <td>3387731.04</td>\n",
       "      <td>41</td>\n",
       "      <td>25664.629091</td>\n",
       "      <td>1</td>\n",
       "      <td>2258487.36</td>\n",
       "    </tr>\n",
       "  </tbody>\n",
       "</table>\n",
       "</div>"
      ],
      "text/plain": [
       "      Age  Gender  Income     Balance  Vintage  Transaction_Status  \\\n",
       "1686   64       0       1   740499.75        4                   0   \n",
       "1563   44       0       3  1129243.68        3                   1   \n",
       "\n",
       "      Product_Holdings  Credit_Card  Credit_Category  inc_bal_rat  \\\n",
       "1686                 1            0               -1     2.961999   \n",
       "1563                 2            0               -1     0.903395   \n",
       "\n",
       "      networth_inbank  start_age  age_bal_ratio  tran_cred      bal_6m  \n",
       "1686       2961999.00         60   11570.308594          0  1480999.50  \n",
       "1563       3387731.04         41   25664.629091          1  2258487.36  "
      ]
     },
     "execution_count": 183,
     "metadata": {},
     "output_type": "execute_result"
    }
   ],
   "source": [
    "X_train3.head(2)"
   ]
  },
  {
   "cell_type": "code",
   "execution_count": 228,
   "metadata": {},
   "outputs": [],
   "source": [
    "principalComponents_test = pca.fit_transform(test_data.drop('ID',axis=1))\n",
    "principalDf_test = pd.DataFrame(data = principalComponents_test\n",
    "             , columns = ['pca_1', 'pca_2','pca_3','pca_4','pca_5'])"
   ]
  },
  {
   "cell_type": "code",
   "execution_count": 229,
   "metadata": {},
   "outputs": [
    {
     "data": {
      "text/html": [
       "<div>\n",
       "<style scoped>\n",
       "    .dataframe tbody tr th:only-of-type {\n",
       "        vertical-align: middle;\n",
       "    }\n",
       "\n",
       "    .dataframe tbody tr th {\n",
       "        vertical-align: top;\n",
       "    }\n",
       "\n",
       "    .dataframe thead th {\n",
       "        text-align: right;\n",
       "    }\n",
       "</style>\n",
       "<table border=\"1\" class=\"dataframe\">\n",
       "  <thead>\n",
       "    <tr style=\"text-align: right;\">\n",
       "      <th></th>\n",
       "      <th>pca_1</th>\n",
       "      <th>pca_2</th>\n",
       "      <th>pca_3</th>\n",
       "      <th>pca_4</th>\n",
       "      <th>pca_5</th>\n",
       "    </tr>\n",
       "  </thead>\n",
       "  <tbody>\n",
       "    <tr>\n",
       "      <th>0</th>\n",
       "      <td>-701320.354361</td>\n",
       "      <td>4.291450e+05</td>\n",
       "      <td>2181.226075</td>\n",
       "      <td>11.228922</td>\n",
       "      <td>-1.753373</td>\n",
       "    </tr>\n",
       "    <tr>\n",
       "      <th>1</th>\n",
       "      <td>-44090.666725</td>\n",
       "      <td>-1.048776e+06</td>\n",
       "      <td>-2272.520779</td>\n",
       "      <td>-6.916778</td>\n",
       "      <td>0.212246</td>\n",
       "    </tr>\n",
       "  </tbody>\n",
       "</table>\n",
       "</div>"
      ],
      "text/plain": [
       "           pca_1         pca_2        pca_3      pca_4     pca_5\n",
       "0 -701320.354361  4.291450e+05  2181.226075  11.228922 -1.753373\n",
       "1  -44090.666725 -1.048776e+06 -2272.520779  -6.916778  0.212246"
      ]
     },
     "execution_count": 229,
     "metadata": {},
     "output_type": "execute_result"
    }
   ],
   "source": [
    "principalDf_test.head(2)"
   ]
  },
  {
   "cell_type": "code",
   "execution_count": 207,
   "metadata": {},
   "outputs": [
    {
     "data": {
      "text/plain": [
       "(2851, 8)"
      ]
     },
     "execution_count": 207,
     "metadata": {},
     "output_type": "execute_result"
    }
   ],
   "source": [
    "principalDf_test.shape"
   ]
  },
  {
   "cell_type": "code",
   "execution_count": 185,
   "metadata": {},
   "outputs": [],
   "source": [
    "y_pred_prob_test=rfc_pca.predict_proba(test_data.drop('ID',axis=1))\n",
    "pred_thrs=[]\n",
    "for i in y_pred_prob_test:\n",
    "    if i[0]<0.65:\n",
    "        pred_thrs.append(1)\n",
    "    else:\n",
    "        pred_thrs.append(0)"
   ]
  },
  {
   "cell_type": "code",
   "execution_count": 186,
   "metadata": {},
   "outputs": [
    {
     "data": {
      "text/plain": [
       "(array([0, 1]), array([2135,  716], dtype=int64))"
      ]
     },
     "execution_count": 186,
     "metadata": {},
     "output_type": "execute_result"
    }
   ],
   "source": [
    "np.unique(pred_thrs,return_counts=True)"
   ]
  },
  {
   "cell_type": "code",
   "execution_count": 191,
   "metadata": {},
   "outputs": [],
   "source": [
    "test_pred_df=pd.DataFrame(pred_thrs,columns=['Is_Churn'])"
   ]
  },
  {
   "cell_type": "code",
   "execution_count": 192,
   "metadata": {},
   "outputs": [
    {
     "name": "stdout",
     "output_type": "stream",
     "text": [
      "   Is_Churn        ID\n",
      "0         1  55480787\n",
      "1         0  9aededf2\n"
     ]
    }
   ],
   "source": [
    "df_out = pd.concat([test_pred_df, test['ID']], axis=1)\n",
    "print(df_out.head(2))"
   ]
  },
  {
   "cell_type": "code",
   "execution_count": 193,
   "metadata": {},
   "outputs": [
    {
     "data": {
      "text/plain": [
       "Is_Churn    int64\n",
       "dtype: object"
      ]
     },
     "execution_count": 193,
     "metadata": {},
     "output_type": "execute_result"
    }
   ],
   "source": [
    "df_out.set_index('ID',inplace=True)\n",
    "df_out.dtypes"
   ]
  },
  {
   "cell_type": "code",
   "execution_count": 194,
   "metadata": {},
   "outputs": [],
   "source": [
    "df_out.to_csv('sub_f159_bal6m.csv')"
   ]
  },
  {
   "cell_type": "code",
   "execution_count": 195,
   "metadata": {},
   "outputs": [
    {
     "data": {
      "text/html": [
       "<div>\n",
       "<style scoped>\n",
       "    .dataframe tbody tr th:only-of-type {\n",
       "        vertical-align: middle;\n",
       "    }\n",
       "\n",
       "    .dataframe tbody tr th {\n",
       "        vertical-align: top;\n",
       "    }\n",
       "\n",
       "    .dataframe thead th {\n",
       "        text-align: right;\n",
       "    }\n",
       "</style>\n",
       "<table border=\"1\" class=\"dataframe\">\n",
       "  <thead>\n",
       "    <tr style=\"text-align: right;\">\n",
       "      <th></th>\n",
       "      <th>pca_1</th>\n",
       "      <th>pca_2</th>\n",
       "      <th>pca_3</th>\n",
       "      <th>pca_4</th>\n",
       "      <th>pca_5</th>\n",
       "      <th>pca_6</th>\n",
       "      <th>pca_7</th>\n",
       "      <th>pca_8</th>\n",
       "      <th>Is_Churn</th>\n",
       "    </tr>\n",
       "  </thead>\n",
       "  <tbody>\n",
       "    <tr>\n",
       "      <th>0</th>\n",
       "      <td>-0.118821</td>\n",
       "      <td>-1.002943</td>\n",
       "      <td>2.497351</td>\n",
       "      <td>-0.878575</td>\n",
       "      <td>-0.810139</td>\n",
       "      <td>0.917463</td>\n",
       "      <td>0.900202</td>\n",
       "      <td>0.287224</td>\n",
       "      <td>1</td>\n",
       "    </tr>\n",
       "    <tr>\n",
       "      <th>1</th>\n",
       "      <td>0.353358</td>\n",
       "      <td>2.164524</td>\n",
       "      <td>-1.179778</td>\n",
       "      <td>1.516835</td>\n",
       "      <td>-1.097364</td>\n",
       "      <td>0.471080</td>\n",
       "      <td>0.015201</td>\n",
       "      <td>1.074874</td>\n",
       "      <td>0</td>\n",
       "    </tr>\n",
       "  </tbody>\n",
       "</table>\n",
       "</div>"
      ],
      "text/plain": [
       "      pca_1     pca_2     pca_3     pca_4     pca_5     pca_6     pca_7  \\\n",
       "0 -0.118821 -1.002943  2.497351 -0.878575 -0.810139  0.917463  0.900202   \n",
       "1  0.353358  2.164524 -1.179778  1.516835 -1.097364  0.471080  0.015201   \n",
       "\n",
       "      pca_8  Is_Churn  \n",
       "0  0.287224         1  \n",
       "1  1.074874         0  "
      ]
     },
     "execution_count": 195,
     "metadata": {},
     "output_type": "execute_result"
    }
   ],
   "source": [
    "finalDf.head(2)"
   ]
  },
  {
   "cell_type": "code",
   "execution_count": 230,
   "metadata": {},
   "outputs": [],
   "source": [
    "y4=finalDf['Is_Churn']\n",
    "X4=finalDf.drop(['Is_Churn'],axis=1)\n",
    "X_train4, X_test4, y_train4, y_test4 = train_test_split(X4,y4,test_size=.25)"
   ]
  },
  {
   "cell_type": "markdown",
   "metadata": {},
   "source": [
    "# Running model on PCA Data"
   ]
  },
  {
   "cell_type": "code",
   "execution_count": 231,
   "metadata": {},
   "outputs": [
    {
     "name": "stdout",
     "output_type": "stream",
     "text": [
      "              precision    recall  f1-score   support\n",
      "\n",
      "           0       0.94      0.98      0.96      1254\n",
      "           1       0.94      0.81      0.87       409\n",
      "\n",
      "    accuracy                           0.94      1663\n",
      "   macro avg       0.94      0.90      0.92      1663\n",
      "weighted avg       0.94      0.94      0.94      1663\n",
      "\n",
      "--------------------------\n",
      "accuracy score 0.9476849067949489\n",
      "              precision    recall  f1-score   support\n",
      "\n",
      "           0       0.98      0.95      0.96      1254\n",
      "           1       0.87      0.93      0.90       409\n",
      "\n",
      "    accuracy                           0.95      1663\n",
      "   macro avg       0.92      0.94      0.93      1663\n",
      "weighted avg       0.95      0.95      0.95      1663\n",
      "\n",
      "roc auc score 0.9785975830886396\n"
     ]
    }
   ],
   "source": [
    "rfc_pca2=RandomForestClassifier( n_estimators= 5000,max_depth=40,n_jobs=-1)\n",
    "rfc_pca2.fit(X_train4, y_train4)\n",
    "prediction_new=rfc_pca2.predict(X_test4)\n",
    "print(classification_report(y_test4,prediction_new))\n",
    "print(\"--------------------------\")\n",
    "pred_thrs=[]\n",
    "pred_test=rfc_pca2.predict_proba(X_test4)\n",
    "for i in pred_test:\n",
    "    if i[0]<0.65:\n",
    "        pred_thrs.append(1)\n",
    "    else:\n",
    "        pred_thrs.append(0)\n",
    "print(\"accuracy score\",accuracy_score(y_test4,pred_thrs))\n",
    "print(classification_report(y_test4,pred_thrs))\n",
    "y_pred_prob_new=rfc_pca2.predict_proba(X_test4)\n",
    "print(\"roc auc score\",roc_auc_score(y_test4,y_pred_prob_new[:,1]))"
   ]
  },
  {
   "cell_type": "markdown",
   "metadata": {},
   "source": [
    "# Grid Search using PCA Data"
   ]
  },
  {
   "cell_type": "code",
   "execution_count": 238,
   "metadata": {},
   "outputs": [
    {
     "name": "stderr",
     "output_type": "stream",
     "text": [
      "C:\\Users\\rashmi\\AppData\\Local\\Continuum\\anaconda3\\lib\\site-packages\\sklearn\\model_selection\\_search.py:281: UserWarning: The total space of parameters 8 is smaller than n_iter=10. Running 8 iterations. For exhaustive searches, use GridSearchCV.\n",
      "  % (grid_size, self.n_iter, grid_size), UserWarning)\n",
      "[Parallel(n_jobs=1)]: Using backend SequentialBackend with 1 concurrent workers.\n"
     ]
    },
    {
     "name": "stdout",
     "output_type": "stream",
     "text": [
      "Fitting 3 folds for each of 8 candidates, totalling 24 fits\n",
      "[CV] n_estimators=5000, max_features=auto, max_depth=30 ..............\n",
      "[CV]  n_estimators=5000, max_features=auto, max_depth=30, total= 1.8min\n",
      "[CV] n_estimators=5000, max_features=auto, max_depth=30 ..............\n"
     ]
    },
    {
     "name": "stderr",
     "output_type": "stream",
     "text": [
      "[Parallel(n_jobs=1)]: Done   1 out of   1 | elapsed:  1.8min remaining:    0.0s\n"
     ]
    },
    {
     "name": "stdout",
     "output_type": "stream",
     "text": [
      "[CV]  n_estimators=5000, max_features=auto, max_depth=30, total= 2.2min\n",
      "[CV] n_estimators=5000, max_features=auto, max_depth=30 ..............\n",
      "[CV]  n_estimators=5000, max_features=auto, max_depth=30, total= 1.8min\n",
      "[CV] n_estimators=6000, max_features=auto, max_depth=30 ..............\n",
      "[CV]  n_estimators=6000, max_features=auto, max_depth=30, total= 2.0min\n",
      "[CV] n_estimators=6000, max_features=auto, max_depth=30 ..............\n",
      "[CV]  n_estimators=6000, max_features=auto, max_depth=30, total= 2.1min\n",
      "[CV] n_estimators=6000, max_features=auto, max_depth=30 ..............\n",
      "[CV]  n_estimators=6000, max_features=auto, max_depth=30, total= 2.3min\n",
      "[CV] n_estimators=5000, max_features=auto, max_depth=36 ..............\n",
      "[CV]  n_estimators=5000, max_features=auto, max_depth=36, total= 1.7min\n",
      "[CV] n_estimators=5000, max_features=auto, max_depth=36 ..............\n",
      "[CV]  n_estimators=5000, max_features=auto, max_depth=36, total= 1.7min\n",
      "[CV] n_estimators=5000, max_features=auto, max_depth=36 ..............\n",
      "[CV]  n_estimators=5000, max_features=auto, max_depth=36, total= 1.7min\n",
      "[CV] n_estimators=6000, max_features=auto, max_depth=36 ..............\n",
      "[CV]  n_estimators=6000, max_features=auto, max_depth=36, total= 2.0min\n",
      "[CV] n_estimators=6000, max_features=auto, max_depth=36 ..............\n",
      "[CV]  n_estimators=6000, max_features=auto, max_depth=36, total= 2.1min\n",
      "[CV] n_estimators=6000, max_features=auto, max_depth=36 ..............\n",
      "[CV]  n_estimators=6000, max_features=auto, max_depth=36, total= 2.1min\n",
      "[CV] n_estimators=5000, max_features=auto, max_depth=43 ..............\n",
      "[CV]  n_estimators=5000, max_features=auto, max_depth=43, total= 1.7min\n",
      "[CV] n_estimators=5000, max_features=auto, max_depth=43 ..............\n",
      "[CV]  n_estimators=5000, max_features=auto, max_depth=43, total= 1.7min\n",
      "[CV] n_estimators=5000, max_features=auto, max_depth=43 ..............\n",
      "[CV]  n_estimators=5000, max_features=auto, max_depth=43, total= 1.7min\n",
      "[CV] n_estimators=6000, max_features=auto, max_depth=43 ..............\n",
      "[CV]  n_estimators=6000, max_features=auto, max_depth=43, total= 2.0min\n",
      "[CV] n_estimators=6000, max_features=auto, max_depth=43 ..............\n",
      "[CV]  n_estimators=6000, max_features=auto, max_depth=43, total= 2.0min\n",
      "[CV] n_estimators=6000, max_features=auto, max_depth=43 ..............\n",
      "[CV]  n_estimators=6000, max_features=auto, max_depth=43, total= 1.8min\n",
      "[CV] n_estimators=5000, max_features=auto, max_depth=50 ..............\n",
      "[CV]  n_estimators=5000, max_features=auto, max_depth=50, total= 1.5min\n",
      "[CV] n_estimators=5000, max_features=auto, max_depth=50 ..............\n",
      "[CV]  n_estimators=5000, max_features=auto, max_depth=50, total= 1.7min\n",
      "[CV] n_estimators=5000, max_features=auto, max_depth=50 ..............\n",
      "[CV]  n_estimators=5000, max_features=auto, max_depth=50, total= 1.5min\n",
      "[CV] n_estimators=6000, max_features=auto, max_depth=50 ..............\n",
      "[CV]  n_estimators=6000, max_features=auto, max_depth=50, total= 1.7min\n",
      "[CV] n_estimators=6000, max_features=auto, max_depth=50 ..............\n",
      "[CV]  n_estimators=6000, max_features=auto, max_depth=50, total= 1.8min\n",
      "[CV] n_estimators=6000, max_features=auto, max_depth=50 ..............\n",
      "[CV]  n_estimators=6000, max_features=auto, max_depth=50, total= 1.7min\n"
     ]
    },
    {
     "name": "stderr",
     "output_type": "stream",
     "text": [
      "[Parallel(n_jobs=1)]: Done  24 out of  24 | elapsed: 45.5min finished\n"
     ]
    },
    {
     "name": "stdout",
     "output_type": "stream",
     "text": [
      "best parameters RandomForestClassifier(bootstrap=True, ccp_alpha=0.0, class_weight=None,\n",
      "                       criterion='gini', max_depth=30, max_features='auto',\n",
      "                       max_leaf_nodes=None, max_samples=None,\n",
      "                       min_impurity_decrease=0.0, min_impurity_split=None,\n",
      "                       min_samples_leaf=1, min_samples_split=2,\n",
      "                       min_weight_fraction_leaf=0.0, n_estimators=6000,\n",
      "                       n_jobs=None, oob_score=False, random_state=None,\n",
      "                       verbose=0, warm_start=False)\n",
      "0.9404690318701142\n",
      "              precision    recall  f1-score   support\n",
      "\n",
      "           0       0.94      0.98      0.96      1254\n",
      "           1       0.94      0.81      0.87       409\n",
      "\n",
      "    accuracy                           0.94      1663\n",
      "   macro avg       0.94      0.90      0.92      1663\n",
      "weighted avg       0.94      0.94      0.94      1663\n",
      "\n"
     ]
    }
   ],
   "source": [
    "rf_c=RandomForestClassifier()\n",
    "param_grid={'n_estimators':[int(x) for x in np.linspace(start=5000,stop=6000,num=2)],\n",
    "            'max_features':['auto'],\n",
    "            'max_depth':[int(x) for x in np.linspace(start=30,stop=50,num=4)]}\n",
    "random_cv=RandomizedSearchCV(rf_c,param_grid,cv=3,verbose=2,random_state=42,scoring='f1')\n",
    "random_cv.fit(X_train4,y_train4)\n",
    "best_random=random_cv.best_estimator_\n",
    "print(\"best parameters\",best_random)\n",
    "prediction_cv=best_random.predict(X_test4)\n",
    "print(accuracy_score(y_test4,prediction_cv))\n",
    "print(classification_report(y_test4,prediction_cv))"
   ]
  },
  {
   "cell_type": "code",
   "execution_count": 232,
   "metadata": {},
   "outputs": [],
   "source": [
    "y_pred_prob_test=rfc_pca2.predict_proba(principalDf_test)\n",
    "pred_thrs=[]\n",
    "for i in y_pred_prob_test:\n",
    "    if i[0]<0.65:\n",
    "        pred_thrs.append(1)\n",
    "    else:\n",
    "        pred_thrs.append(0)"
   ]
  },
  {
   "cell_type": "code",
   "execution_count": 233,
   "metadata": {},
   "outputs": [
    {
     "name": "stdout",
     "output_type": "stream",
     "text": [
      "(array([0, 1]), array([1380, 1471], dtype=int64))\n",
      "   Is_Churn        ID\n",
      "0         1  55480787\n",
      "1         0  9aededf2\n"
     ]
    }
   ],
   "source": [
    "print(np.unique(pred_thrs,return_counts=True))\n",
    "test_pred_df=pd.DataFrame(pred_thrs,columns=['Is_Churn'])\n",
    "df_out = pd.concat([test_pred_df, test['ID']], axis=1)\n",
    "print(df_out.head(2))\n",
    "df_out.set_index('ID',inplace=True)\n",
    "df_out.dtypes\n",
    "df_out.to_csv('sub_f190_pca_thrs.csv')"
   ]
  },
  {
   "cell_type": "code",
   "execution_count": 234,
   "metadata": {},
   "outputs": [
    {
     "name": "stdout",
     "output_type": "stream",
     "text": [
      "   Is_Churn        ID\n",
      "0         1  55480787\n",
      "1         0  9aededf2\n",
      "0    1483\n",
      "1    1368\n",
      "Name: Is_Churn, dtype: int64\n"
     ]
    }
   ],
   "source": [
    "\n",
    "pred_thrs=rfc_pca2.predict(principalDf_test)\n",
    "test_pred_df=pd.DataFrame(pred_thrs,columns=['Is_Churn'])\n",
    "df_out = pd.concat([test_pred_df, test['ID']], axis=1)\n",
    "print(df_out.head(2))\n",
    "print(df_out['Is_Churn'].value_counts())\n",
    "df_out.set_index('ID',inplace=True)\n",
    "df_out.dtypes\n",
    "df_out.to_csv('sub_f190_pca.csv')"
   ]
  },
  {
   "cell_type": "code",
   "execution_count": 235,
   "metadata": {},
   "outputs": [
    {
     "name": "stdout",
     "output_type": "stream",
     "text": [
      "(array([0, 1], dtype=int64), array([3859, 1128], dtype=int64))\n",
      "(array([0, 1]), array([3859, 1128], dtype=int64))\n"
     ]
    }
   ],
   "source": [
    "print(np.unique(y_train4,return_counts=True))\n",
    "y_pred_prob_test=rfc_pca2.predict_proba(X_train4)\n",
    "pred_thrs=[]\n",
    "for i in y_pred_prob_test:\n",
    "    if i[0]<0.5:\n",
    "        pred_thrs.append(1)\n",
    "    else:\n",
    "        pred_thrs.append(0)\n",
    "print(np.unique(pred_thrs,return_counts=True))"
   ]
  },
  {
   "cell_type": "code",
   "execution_count": 236,
   "metadata": {},
   "outputs": [
    {
     "name": "stdout",
     "output_type": "stream",
     "text": [
      "(array([0, 1]), array([3859, 1128], dtype=int64))\n"
     ]
    }
   ],
   "source": [
    "pred_thrs=[]\n",
    "for i in y_pred_prob_test:\n",
    "    if i[0]<0.5:\n",
    "        pred_thrs.append(1)\n",
    "    else:\n",
    "        pred_thrs.append(0)\n",
    "print(np.unique(pred_thrs,return_counts=True))"
   ]
  },
  {
   "cell_type": "code",
   "execution_count": null,
   "metadata": {},
   "outputs": [],
   "source": []
  }
 ],
 "metadata": {
  "kernelspec": {
   "display_name": "Python 3",
   "language": "python",
   "name": "python3"
  },
  "language_info": {
   "codemirror_mode": {
    "name": "ipython",
    "version": 3
   },
   "file_extension": ".py",
   "mimetype": "text/x-python",
   "name": "python",
   "nbconvert_exporter": "python",
   "pygments_lexer": "ipython3",
   "version": "3.7.4"
  }
 },
 "nbformat": 4,
 "nbformat_minor": 2
}
